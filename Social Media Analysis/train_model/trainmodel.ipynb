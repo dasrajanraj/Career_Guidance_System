{
 "cells": [
  {
   "cell_type": "code",
   "execution_count": 1,
   "metadata": {},
   "outputs": [],
   "source": [
    "import tweepy \n",
    "import re,string\n",
    "import csv\n",
    "from sklearn import metrics\n",
    "import csv\n",
    "import pickle \n",
    "import joblib\n",
    "from tweepy import OAuthHandler\n",
    "from tweepy import API\n",
    "from tweepy import Cursor\n",
    "from datetime import datetime, date, time, timedelta\n",
    "from collections import Counter\n",
    "import sys\n",
    "import pandas as pd\n",
    "import numpy as np\n",
    "from nltk.tokenize import word_tokenize\n",
    "from nltk import pos_tag\n",
    "from nltk.corpus import stopwords\n",
    "from nltk.stem import WordNetLemmatizer\n",
    "from sklearn.preprocessing import LabelEncoder\n",
    "from collections import defaultdict\n",
    "from nltk.corpus import wordnet as wn\n",
    "from sklearn.feature_extraction.text import TfidfVectorizer\n",
    "from sklearn import model_selection, naive_bayes, svm\n",
    "from sklearn.metrics import accuracy_score\n",
    "from statistics import mode\n",
    "\n",
    "np.random.seed(500)"
   ]
  },
  {
   "cell_type": "code",
   "execution_count": 2,
   "metadata": {},
   "outputs": [],
   "source": [
    "consumer_key = \"7LpNzY0vxJLJ6G3urHqWf2aOV\"\n",
    "consumer_secret = \"pVTsVgrpFDMWO23ieJeb4Y3Fezs9bLLssk4PeZds4K7VUsaIYR\"\n",
    "access_token = \"1224024091943829504-yt4GWoJfJQz18ocgjfg9AfwQE8BaIW\"\n",
    "access_token_secret = \"ZRRv9Ch6MVHG6MPKKuPoI4dVPBxD3rVyxaZC0tdYHqVwx\"\n",
    "\n",
    "auth = OAuthHandler(consumer_key, consumer_secret)\n",
    "auth.set_access_token(access_token, access_token_secret)\n",
    "api = API(auth)"
   ]
  },
  {
   "cell_type": "code",
   "execution_count": 3,
   "metadata": {},
   "outputs": [],
   "source": [
    "#class value 1 for negative\n",
    "#class value 2 for pilot\n",
    "#class value 3 for architect\n",
    "#class value 4 for photographer\n",
    "#class value 5 for finance"
   ]
  },
  {
   "cell_type": "code",
   "execution_count": 4,
   "metadata": {},
   "outputs": [],
   "source": [
    "#random\n",
    "neg=pd.read_csv('dataset140.csv',nrows=2000)\n",
    "negtweets=neg['Text'].tolist()\n",
    "values=[1]*len(negtweets)\n",
    "neg_text=[]\n",
    "for i in negtweets:\n",
    "    i=re.sub(r\"https:(\\/\\/t\\.co\\/([A-Za-z0-9]|[A-Za-z]){10})\", \"\", i)\n",
    "    i=re.sub(\"(@[A-Za-z0-9]+)|([^0-9A-Za-z \\t]) |(\\w+:\\/\\/\\S+)\", \"\",i)\n",
    "    neg_text.append(i)\n",
    "random=pd.DataFrame(neg_text,columns=['Text'])\n",
    "random['Class']=values"
   ]
  },
  {
   "cell_type": "code",
   "execution_count": 5,
   "metadata": {},
   "outputs": [],
   "source": [
    "def getTweets(filename,classval):\n",
    "    df=pd.read_csv(filename)\n",
    "    names=df['Name'].values.tolist()\n",
    "    alltweets=[]\n",
    "    values=[]\n",
    "    for i in names:\n",
    "        try:\n",
    "            tweets=api.user_timeline(screen_name=i,count=400)#,tweet_mode=\"extended\"\n",
    "        except tweepy.TweepError:\n",
    "            print(\"invalid\")\n",
    "        for tweet in tweets:\n",
    "            if tweet.lang == \"en\":\n",
    "                alltweets.append(tweet.text)\n",
    "            \n",
    "    values=[classval]*len(alltweets)\n",
    "    text=[]\n",
    "    for i in alltweets:\n",
    "        i=re.sub(r\"https:(\\/\\/t\\.co\\/([A-Za-z0-9]|[A-Za-z]){10})\", \"\", i)\n",
    "        i=re.sub(\"(@[A-Za-z0-9]+)|([^0-9A-Za-z \\t]) |(\\w+:\\/\\/\\S+)\", \"\",i)\n",
    "        text.append(i)\n",
    "    pos=pd.DataFrame(text,columns=['Text'])\n",
    "    pos['Class']=values\n",
    "    return pos"
   ]
  },
  {
   "cell_type": "code",
   "execution_count": 6,
   "metadata": {},
   "outputs": [
    {
     "name": "stdout",
     "output_type": "stream",
     "text": [
      "invalid\n"
     ]
    }
   ],
   "source": [
    "pilot=getTweets('pilotcsv.csv',2)\n",
    "architect=getTweets('architect.csv',3)\n",
    "photographer=getTweets('photographer.csv',4)\n",
    "finance=getTweets('finance.csv',5)"
   ]
  },
  {
   "cell_type": "code",
   "execution_count": 7,
   "metadata": {},
   "outputs": [
    {
     "data": {
      "text/html": [
       "<div>\n",
       "<style scoped>\n",
       "    .dataframe tbody tr th:only-of-type {\n",
       "        vertical-align: middle;\n",
       "    }\n",
       "\n",
       "    .dataframe tbody tr th {\n",
       "        vertical-align: top;\n",
       "    }\n",
       "\n",
       "    .dataframe thead th {\n",
       "        text-align: right;\n",
       "    }\n",
       "</style>\n",
       "<table border=\"1\" class=\"dataframe\">\n",
       "  <thead>\n",
       "    <tr style=\"text-align: right;\">\n",
       "      <th></th>\n",
       "      <th>Text</th>\n",
       "      <th>Class</th>\n",
       "    </tr>\n",
       "  </thead>\n",
       "  <tbody>\n",
       "    <tr>\n",
       "      <td>0</td>\n",
       "      <td>is upset that he can't update his Facebook by ...</td>\n",
       "      <td>1</td>\n",
       "    </tr>\n",
       "    <tr>\n",
       "      <td>1</td>\n",
       "      <td>I dived many times for the ballManaged to sav...</td>\n",
       "      <td>1</td>\n",
       "    </tr>\n",
       "    <tr>\n",
       "      <td>2</td>\n",
       "      <td>my whole body feels itchy and like its on fire</td>\n",
       "      <td>1</td>\n",
       "    </tr>\n",
       "    <tr>\n",
       "      <td>3</td>\n",
       "      <td>noit's not behaving at alli'm madwhy am i her...</td>\n",
       "      <td>1</td>\n",
       "    </tr>\n",
       "    <tr>\n",
       "      <td>4</td>\n",
       "      <td>not the whole crew</td>\n",
       "      <td>1</td>\n",
       "    </tr>\n",
       "    <tr>\n",
       "      <td>...</td>\n",
       "      <td>...</td>\n",
       "      <td>...</td>\n",
       "    </tr>\n",
       "    <tr>\n",
       "      <td>7393</td>\n",
       "      <td>Time passes and confirmation bias has differe...</td>\n",
       "      <td>5</td>\n",
       "    </tr>\n",
       "    <tr>\n",
       "      <td>7394</td>\n",
       "      <td>Current updated global and U.SGDP forecasts fr...</td>\n",
       "      <td>5</td>\n",
       "    </tr>\n",
       "    <tr>\n",
       "      <td>7395</td>\n",
       "      <td>In smaller 19th century redwood mills one stea...</td>\n",
       "      <td>5</td>\n",
       "    </tr>\n",
       "    <tr>\n",
       "      <td>7396</td>\n",
       "      <td>Answer to Fridayâs artifact quizItâs the â...</td>\n",
       "      <td>5</td>\n",
       "    </tr>\n",
       "    <tr>\n",
       "      <td>7397</td>\n",
       "      <td>Quote for the DayâI never notice what is sai...</td>\n",
       "      <td>5</td>\n",
       "    </tr>\n",
       "  </tbody>\n",
       "</table>\n",
       "<p>7398 rows × 2 columns</p>\n",
       "</div>"
      ],
      "text/plain": [
       "                                                   Text  Class\n",
       "0     is upset that he can't update his Facebook by ...      1\n",
       "1      I dived many times for the ballManaged to sav...      1\n",
       "2       my whole body feels itchy and like its on fire       1\n",
       "3      noit's not behaving at alli'm madwhy am i her...      1\n",
       "4                                   not the whole crew       1\n",
       "...                                                 ...    ...\n",
       "7393   Time passes and confirmation bias has differe...      5\n",
       "7394  Current updated global and U.SGDP forecasts fr...      5\n",
       "7395  In smaller 19th century redwood mills one stea...      5\n",
       "7396  Answer to Fridayâs artifact quizItâs the â...      5\n",
       "7397  Quote for the DayâI never notice what is sai...      5\n",
       "\n",
       "[7398 rows x 2 columns]"
      ]
     },
     "execution_count": 7,
     "metadata": {},
     "output_type": "execute_result"
    }
   ],
   "source": [
    "d=[random,architect,pilot,photographer,finance]\n",
    "result = pd.concat(d)\n",
    "result.to_csv('result.csv',index=False)\n",
    "result=pd.read_csv(r\"result.csv\",encoding='latin-1')\n",
    "result"
   ]
  },
  {
   "cell_type": "code",
   "execution_count": 8,
   "metadata": {},
   "outputs": [],
   "source": [
    "result['Text'].dropna(inplace=True)# Step - b : Change all the text to lower case. This is required as python interprets 'dog' and 'DOG' differently\n",
    "result['Text'] = [entry.lower() for entry in result['Text']]# Step - c : Tokenization : In this each entry in the corpus will be broken into set of words\n",
    "result['Text']= [word_tokenize(entry) for entry in result['Text']]# Step - d : Remove Stop words, Non-Numeric and perfom Word Stemming/Lemmenting.# WordNetLemmatizer requires Pos tags to understand if the word is noun or verb or adjective etc. By default it is set to Noun\n",
    "tag_map = defaultdict(lambda : wn.NOUN)\n",
    "tag_map['J'] = wn.ADJ\n",
    "tag_map['V'] = wn.VERB\n",
    "tag_map['R'] = wn.ADV"
   ]
  },
  {
   "cell_type": "code",
   "execution_count": 9,
   "metadata": {},
   "outputs": [],
   "source": [
    "for index,entry in enumerate(result['Text']):\n",
    "    # Declaring Empty List to store the words that follow the rules for this step\n",
    "    Final_words = []\n",
    "    # Initializing WordNetLemmatizer()\n",
    "    word_Lemmatized = WordNetLemmatizer()\n",
    "    # pos_tag function below will provide the 'tag' i.e if the word is Noun(N) or Verb(V) or something else.\n",
    "    for word, tag in pos_tag(entry):\n",
    "        # Below condition is to check for Stop words and consider only alphabets\n",
    "        if word not in stopwords.words('english') and word.isalpha():\n",
    "            word_Final = word_Lemmatized.lemmatize(word,tag_map[tag[0]])\n",
    "            Final_words.append(word_Final)\n",
    "    # The final processed set of words for each iteration will be stored in 'text_final'\n",
    "    result.loc[index,'text_final'] = str(Final_words)"
   ]
  },
  {
   "cell_type": "code",
   "execution_count": 10,
   "metadata": {},
   "outputs": [],
   "source": [
    "Train_X, Test_X, Train_Y, Test_Y = model_selection.train_test_split(result['text_final'],result['Class'],test_size=0.2)"
   ]
  },
  {
   "cell_type": "code",
   "execution_count": 11,
   "metadata": {},
   "outputs": [],
   "source": [
    "# Encoder = LabelEncoder()\n",
    "# Train_Y = Encoder.fit_transform(Train_Y)\n",
    "# Test_Y = Encoder.fit_transform(Test_Y)\n",
    "# print(len(Test_X))"
   ]
  },
  {
   "cell_type": "code",
   "execution_count": 12,
   "metadata": {},
   "outputs": [
    {
     "name": "stdout",
     "output_type": "stream",
     "text": [
      "{'upset': 4565, 'ca': 646, 'update': 4557, 'facebook': 1524, 'might': 2631, 'cry': 1045, 'result': 3612, 'school': 3818, 'today': 4395, 'dive': 1234, 'many': 2539, 'time': 4383, 'save': 3800, 'rest': 3607, 'go': 1816, 'bound': 564, 'whole': 4824, 'body': 533, 'feel': 1578, 'itchy': 2224, 'like': 2430, 'fire': 1614, 'noit': 2822, 'behave': 467, 'alli': 128, 'see': 3848, 'crew': 1027, 'need': 2776, 'hug': 2052, 'hey': 1977, 'long': 2473, 'bit': 510, 'lol': 2469, 'fine': 1610, 'thanks': 4331, 'nope': 2832, 'que': 3381, 'spring': 4095, 'break': 578, 'plain': 3101, 'snowing': 4010, 'ear': 1319, 'could': 982, 'bear': 456, 'watch': 4711, 'think': 4349, 'loss': 2481, 'never': 2791, 'talk': 4273, 'anymore': 256, 'would': 4922, 'gun': 1892, 'really': 3491, 'wish': 4877, 'get': 1794, 'miss': 2656, 'premiere': 3181, 'scene': 3813, 'hurt': 2062, 'severely': 3884, 'film': 1599, 'director': 1211, 'cut': 1066, 'file': 1597, 'tax': 4286, 'ahh': 95, 'ive': 2230, 'always': 147, 'want': 4693, 'love': 2486, 'oh': 2886, 'drink': 1295, 'table': 4260, 'day': 1098, 'much': 2726, 'do': 1242, 'one': 2904, 'friend': 1716, 'call': 656, 'ask': 336, 'meet': 2598, 'mid': 2627, 'valley': 4589, 'bake': 419, 'cake': 651, 'week': 4740, 'hop': 2025, 'class': 803, 'tomorrow': 4406, 'hate': 1938, 'wake': 4684, 'people': 3032, 'sleep': 3986, 'im': 2092, 'sad': 3773, 'leslie': 2406, 'ok': 2894, 'wo': 4884, 'mad': 2507, 'track': 4436, 'depressed': 1157, 'every': 1458, 'hack': 1899, 'account': 18, 'aim': 99, 'make': 2522, 'new': 2792, 'promote': 3259, 'gear': 1770, 'groove': 1871, 'ride': 3670, 'may': 2577, 'anaheim': 221, 'though': 4355, 'option': 2927, 'realize': 3490, 'morning': 2699, 'work': 4900, 'afternoon': 79, 'awe': 395, 'eye': 1519, 'night': 2808, 'sick': 3940, 'spend': 4078, 'hour': 2040, 'sit': 3965, 'shower': 3932, 'cause': 707, 'stand': 4108, 'hold': 2004, 'back': 410, 'puke': 3319, 'ill': 2087, 'tell': 4304, 'ya': 4942, 'story': 4147, 'later': 2362, 'good': 1828, 'three': 4361, 'come': 864, 'even': 1452, 'know': 2327, 'kid': 2309, 'suitcase': 4210, 'gon': 1826, 'na': 2749, 'fly': 1641, 'girlfriend': 1804, 'study': 4179, 'reason': 3493, 'enough': 1405, 'heart': 1954, 'feeling': 1580, 'wan': 4690, 'still': 4134, 'awww': 402, 'soo': 4036, 'finally': 1603, 'fall': 1535, 'hear': 1951, 'tracy': 4437, 'girl': 1803, 'family': 1540, 'happy': 1925, 'also': 139, 'mean': 2586, 'less': 2407, 'check': 750, 'user': 4577, 'look': 2475, 'happen': 1922, 'ppl': 3167, 'wbgs': 4721, 'man': 2528, 'iron': 2208, 'fave': 1561, 'top': 4418, 'wear': 4727, 'sorry': 4046, 'broadband': 600, 'plan': 3102, 'massive': 2561, 'broken': 602, 'promise': 3257, 'via': 4609, 'wait': 4682, 'reply': 3577, 'scroll': 3830, 'feed': 1575, 'lot': 2482, 'chicken': 761, 'take': 4268, 'wayyy': 4720, 'hatch': 1937, 'put': 3343, 'vacation': 4586, 'photo': 3059, 'online': 2915, 'yr': 4986, 'forget': 1676, 'name': 2754, 'site': 3966, 'sure': 4235, 'toi': 4402, 'dont': 1267, 'trade': 4438, 'away': 393, 'company': 880, 'asset': 339, 'andy': 230, 'dallas': 1076, 'show': 3929, 'ta': 4259, 'say': 3803, 'use': 4574, 'music': 2739, 'ugh': 4512, 'degree': 1134, 'move': 2718, 'already': 137, 'find': 1609, 'well': 4749, 'commission': 871, 'cop': 968, 'sand': 3791, 'leave': 2390, 'parking': 2986, 'life': 2421, 'coolbut': 967, 'sadly': 3776, 'experience': 1500, 'post': 3156, 'cigarette': 789, 'nice': 2804, 'bad': 414, 'rain': 3458, 'around': 315, 'lose': 2479, 'job': 2258, 'pay': 3010, 'phone': 3058, 'bill': 502, 'lmao': 2455, 'aw': 387, 'mo': 2663, 'money': 2681, 'hell': 1965, 'min': 2643, 'soon': 4037, 'saw': 3801, 'em': 1370, 'unless': 4545, 'someone': 4028, 'add': 47, 'terrible': 4313, 'thati': 4334, 'pop': 3146, 'start': 4114, 'jar': 2243, 'least': 2388, 'band': 427, 'trace': 4435, 'clearly': 809, 'ugly': 4514, 'gym': 1896, 'attire': 360, 'short': 3923, 'black': 513, 'business': 634, 'sock': 4015, 'leather': 2389, 'shoe': 3918, 'lucky': 2498, 'run': 3759, 'cute': 1067, 'location': 2463, 'smell': 4001, 'donkey': 1266, 'glad': 1806, 'mug': 2728, 'csi': 1046, 'tonight': 4412, 'fml': 1647, 'arm': 312, 'sore': 4045, 'tennis': 4309, 'wonder': 4888, 'split': 4088, 'bye': 644, 'ur': 4568, 'fare': 1546, 'book': 546, 'mine': 2645, 'boo': 545, 'useless': 4576, 'blast': 520, 'getty': 1795, 'hat': 1936, 'throat': 4363, 'dayit': 1100, 'meeting': 2599, 'mama': 2526, 'tummy': 4489, 'anything': 258, 'fat': 1554, 'fam': 1538, 'annoys': 243, 'asleep': 337, 'right': 3675, 'attention': 359, 'cover': 998, 'photoshop': 3069, 'design': 1165, 'wednesday': 4739, 'poor': 3144, 'hill': 1989, 'pray': 3172, 'ex': 1470, 'baby': 409, 'birthday': 509, 'headache': 1945, 'enjoy': 1403, 'problem': 3218, 'constant': 937, 'thing': 4346, 'little': 2450, 'puppy': 3331, 'grace': 1847, 'wana': 4691, 'steve': 4130, 'party': 2994, 'since': 3957, 'easter': 1329, 'able': 4, 'ohh': 2887, 'heyi': 1978, 'actually': 41, 'follow': 1657, 'nite': 2814, 'favorite': 1562, 'spartan': 4063, 'northern': 2841, 'california': 655, 'hope': 2026, 'increase': 2121, 'capacity': 673, 'fail': 1528, 'whale': 4782, 'behind': 470, 'quot': 3412, 'house': 2041, 'remember': 3558, 'bum': 629, 'serious': 3873, 'willtheir': 4856, 'kind': 2315, 'complaint': 891, 'laptop': 2355, 'recall': 3495, 'emily': 1377, 'mommy': 2676, 'training': 4448, 'rather': 3477, 'first': 1616, 'send': 3857, 'message': 2613, 'year': 4953, 'overrate': 2960, 'knowi': 2328, 'heard': 1952, 'lay': 2374, 'bed': 463, 'voice': 4656, 'sooo': 4039, 'kill': 2310, 'kutner': 2338, 'whyyyyyyyy': 4834, 'mea': 2585, 'sense': 3860, 'methe': 2614, 'suicide': 4209, 'thingi': 4347, 'refuse': 3520, 'believe': 476, 'inspirational': 2156, 'sadden': 3774, 'stop': 4141, 'cuz': 1068, 'yeah': 4951, 'chance': 734, 'hang': 1920, 'quoti': 3421, 'beach': 453, 'piss': 3091, 'radio': 3452, 'station': 4120, 'flip': 1631, 'head': 1944, 'sound': 4051, 'side': 3941, 'mention': 2607, 'late': 2360, 'big': 500, 'fan': 1542, 'wah': 4681, 'else': 1369, 'blame': 517, 'seem': 3850, 'longer': 2474, 'term': 4310, 'cold': 843, 'turn': 4494, 'haha': 1903, 'dand': 1084, 'incredible': 2123, 'stuff': 4180, 'tomorrowand': 4407, 'agency': 83, 'almost': 131, 'babe': 408, 'alive': 125, 'tired': 4392, 'try': 4482, 'hopefully': 2027, 'agh': 87, 'snow': 4009, 'kenny': 2301, 'power': 3164, 'thank': 4328, 'let': 2409, 'direct': 1207, 'test': 4319, 'win': 4858, 'without': 4882, 'guess': 1885, 'shame': 3895, 'leavin': 2391, 'intend': 2172, 'finish': 1612, 'edit': 1344, 'probably': 3217, 'page': 2968, 'read': 3482, 'amp': 160, 'princess': 3202, 'diary': 1188, 'easy': 1331, 'nokia': 2823, 'die': 1193, 'mom': 2673, 'breast': 582, 'cancer': 666, 'worried': 4917, 'understand': 4530, 'daylight': 1101, 'end': 1390, 'breakfast': 579, 'keep': 2296, 'lame': 2347, 'hero': 1975, 'live': 2451, 'downtown': 1277, 'fun': 1736, 'calorie': 658, 'wise': 4876, 'food': 1662, 'sour': 4053, 'skittle': 3980, 'as': 330, 'cherry': 756, 'coke': 841, 'hard': 1928, 'hot': 2037, 'pain': 2969, 'star': 4111, 'yesterday': 4964, 'apps': 283, 'serial': 3870, 'although': 143, 'pick': 3078, 'st': 4100, 'pretty': 3191, 'way': 4716, 'alone': 132, 'kinda': 2316, 'yes': 4960, 'chicago': 759, 'far': 1545, 'stuck': 4175, 'awake': 389, 'middle': 2628, 'second': 3841, 'felt': 1583, 'bubble': 617, 'gosh': 1839, 'deleted': 1137, 'history': 1996, 'crazy': 1013, 'wind': 4859, 'currently': 1061, 'ipod': 2204, 'act': 33, 'weird': 4746, 'ho': 2001, 'thinking': 4350, 'play': 3114, 'full': 1734, 'dvd': 1316, 'co': 830, 'deal': 1109, 'website': 4734, 'rail': 3457, 'tip': 4389, 'hide': 1982, 'stay': 4122, 'chat': 747, 'trip': 4466, 'soooo': 4040, 'border': 552, 'close': 820, 'download': 1275, 'album': 119, 'quotwhen': 3435, 'outi': 2947, 'write': 4928, 'early': 1321, 'university': 4543, 'teach': 4291, 'channel': 736, 'yet': 4967, 'hobby': 2002, 'buddy': 619, 'ny': 2859, 'south': 4055, 'qtrfrench': 3363, 'french': 1708, 'beautiful': 460, 'remain': 3556, 'block': 525, 'qc': 3355, 'regularize': 3531, 'internal': 2184, 'clock': 819, 'difficult': 1200, 'fb': 1565, 'spencer': 4077, 'guy': 1894, 'reese': 3513, 'season': 3838, 'next': 2799, 'president': 3186, 'woman': 4887, 'letter': 2411, 'dog': 1255, 'shit': 3915, 'screwed': 3829, 'wanttss': 4699, 'tonite': 4414, 'tire': 4391, 'interview': 2188, 'whackway': 4781, 'whackit': 4780, 'choose': 777, 'waybut': 4717, 'accept': 12, 'help': 1969, 'dead': 1107, 'mebut': 2591, 'till': 4378, 'hahaha': 1905, 'hr': 2045, 'mind': 2644, 'protest': 3283, 'nightmare': 2810, 'boot': 549, 'angel': 231, 'library': 2419, 'nap': 2756, 'interrupt': 2187, 'japanese': 2242, 'bus': 633, 'ghost': 1798, 'world': 4911, 'canada': 664, 'suppose': 4233, 'shop': 3920, 'entrance': 1414, 'movie': 2720, 'macbook': 2504, 'fell': 1581, 'herei': 1974, 'tipsy': 4390, 'sweat': 4246, 'crash': 1011, 'therei': 4343, 'screw': 3828, 'somebody': 4026, 'cant': 669, 'couldnt': 983, 'handle': 1919, 'cat': 699, 'heat': 1957, 'fit': 1618, 'picture': 3080, 'ever': 1456, 'magazine': 2511, 'tho': 4352, 'congrats': 921, 'totally': 4424, 'submit': 4192, 'luck': 2496, 'please': 3118, 'amaze': 148, 'xxx': 4941, 'stupid': 4185, 'advance': 61, 'shoot': 3919, 'outside': 2951, 'scar': 3810, 'reflection': 3517, 'lecture': 2392, 'stress': 4164, 'reduce': 3510, 'become': 462, 'useful': 4575, 'news': 2795, 'upload': 4561, 'red': 3507, 'game': 1759, 'forward': 1682, 'open': 2919, 'key': 2305, 'righti': 3677, 'dunno': 1310, 'twitter': 4505, 'home': 2013, 'explain': 1504, 'parent': 2983, 'old': 2898, 'child': 764, 'walk': 4686, 'restaurant': 3608, 'competitive': 888, 'eat': 1333, 'tourney': 4428, 'round': 3743, 'place': 3099, 'gay': 1769, 'hello': 1967, 'lt': 2493, 'lonely': 2472, 'office': 2878, 'celebrate': 713, 'weekend': 4741, 'nothing': 2845, 'officially': 2881, 'monkey': 2683, 'twin': 4503, 'wont': 4894, 'heartbroken': 1956, 'aww': 401, 'define': 1131, 'brent': 585, 'praise': 3171, 'lead': 2379, 'guitarist': 1890, 'pout': 3163, 'gt': 1879, 'john': 2264, 'doctor': 1247, 'bff': 494, 'remind': 3559, 'court': 993, 'video': 4616, 'card': 682, 'doa': 1243, 'confuse': 917, 'iphone': 2203, 'damn': 1078, 'fill': 1598, 'pasti': 3001, 'change': 735, 'iti': 2226, 'deserve': 1164, 'gah': 1750, 'ringit': 3686, 'internet': 2186, 'fuck': 1731, 'nurse': 2858, 'betteri': 491, 'rude': 3754, 'tonightit': 4413, 'uni': 4538, 'april': 284, 'july': 2280, 'bentley': 483, 'sidekick': 3942, 'face': 1523, 'golden': 1822, 'piece': 3081, 'fucking': 1732, 'aaaaand': 1, 'ooh': 2918, 'excite': 1481, 'youtube': 4984, 'spent': 4080, 'reach': 3479, 'bank': 429, 'holiday': 2006, 'often': 2883, 'hilarious': 1988, 'link': 2438, 'clip': 818, 'ago': 88, 'neither': 2782, 'thats': 4336, 'tweet': 4498, 'nearly': 2772, 'seriously': 3874, 'application': 274, 'son': 4033, 'workand': 4901, 'whingingmy': 4810, 'client': 813, 'bos': 558, 'english': 1402, 'wellrewrote': 4755, 'text': 4324, 'writer': 4930, 'review': 3628, 'correctly': 977, 'punch': 3326, 'ughh': 4513, 'apologize': 266, 'relate': 3544, 'discussion': 1223, 'figure': 1596, 'hotel': 2038, 'etc': 1443, 'technological': 4299, 'register': 3527, 'quotfor': 3419, 'bout': 567, 'pill': 3084, 'afraid': 75, 'code': 838, 'notice': 2846, 'bathroom': 447, 'yup': 4989, 'workout': 4907, 'schedule': 3815, 'allow': 129, 'tough': 4426, 'list': 2445, 'milky': 2636, 'bar': 431, 'arrive': 321, 'art': 324, 'bet': 490, 'crave': 1012, 'terrify': 4315, 'accidentally': 16, 'delete': 1136, 'reference': 3515, 'management': 2530, 'assignment': 340, 'doesnt': 1254, 'trouble': 4471, 'amazon': 150, 'php': 3070, 'provider': 3293, 'sleepy': 3991, 'wide': 4836, 'sell': 3855, 'accord': 17, 'fight': 1595, 'poop': 3143, 'steal': 4126, 'staff': 4103, 'thought': 4356, 'sandra': 3792, 'cantu': 670, 'everybody': 1459, 'michigan': 2625, 'two': 4506, 'everyday': 1460, 'cage': 650, 'idea': 2076, 'underneath': 4529, 'drain': 1284, 'energy': 1395, 'excited': 1482, 'angela': 232, 'noah': 2816, 'awesome': 396, 'dangi': 1086, 'outing': 2948, 'paper': 2980, 'access': 13, 'halo': 1913, 'map': 2540, 'pack': 2966, 'legendary': 2399, 'youi': 4979, 'busy': 637, 'project': 3244, 'ha': 1898, 'sun': 4215, 'crush': 1042, 'warn': 4704, 'state': 4117, 'mouth': 2717, 'brace': 574, 'annoy': 242, 'easily': 1327, 'proposalgetting': 3269, 'grandma': 1852, 'worth': 4920, 'alot': 135, 'organize': 2932, 'possible': 3154, 'bone': 543, 'ache': 25, 'exchange': 1480, 'last': 2359, 'miserable': 2655, 'rachelhang': 3441, 'dumb': 1309, 'folk': 1655, 'free': 1703, 'ampfuriousthe': 167, 'mantra': 2537, 'bay': 450, 'city': 797, 'hubby': 2050, 'important': 2102, 'spot': 4092, 'trek': 4459, 'matter': 2572, 'hair': 1908, 'permanent': 3045, 'within': 4881, 'reaction': 3481, 'whoadid': 4820, 'medicine': 2595, 'maybe': 2578, 'couple': 990, 'productive': 3225, 'tiredi': 4393, 'worry': 4918, 'word': 4899, 'gamertag': 1762, 'ton': 4408, 'rip': 3692, 'homework': 2017, 'awayi': 394, 'scratch': 3825, 'listen': 2446, 'sweet': 4248, 'chi': 757, 'town': 4433, 'visit': 4633, 'plz': 3126, 'geez': 1772, 'email': 1371, 'dark': 1088, 'dang': 1085, 'another': 247, 'cool': 966, 'age': 82, 'emotional': 1379, 'men': 2606, 'omg': 2903, 'nick': 2806, 'jon': 2270, 'net': 2786, 'depressing': 1158, 'create': 1016, 'stock': 4137, 'loud': 2483, 'creak': 1014, 'running': 3760, 'chris': 778, 'info': 2141, 'must': 2742, 'mail': 2515, 'sorryi': 4047, 'yucky': 4987, 'quick': 3397, 'song': 4034, 'myspace': 2747, 'mess': 2612, 'dad': 1073, 'coach': 831, 'practise': 3170, 'weight': 4745, 'stick': 4133, 'complete': 892, 'ad': 42, 'female': 1584, 'host': 2036, 'psychedbut': 3300, 'pepperoni': 3035, 'roll': 3735, 'monday': 2677, 'episode': 1420, 'modern': 2669, 'something': 4030, 'finger': 1611, 'cross': 1036, 'skinny': 3978, 'vega': 4598, 'hungry': 2060, 'tweetdeck': 4499, 'mei': 2600, 'btw': 615, 'quickly': 3398, 'freeze': 1705, 'admit': 56, 'sayin': 3804, 'ed': 1342, 'quotstill': 3430, 'strong': 4169, 'drive': 1296, 'builder': 623, 'weather': 4732, 'range': 3467, 'anyone': 257, 'accident': 15, 'pushingit': 3341, 'push': 3339, 'quothe': 3420, 'wet': 4772, 'pant': 2979, 'jump': 2282, 'kick': 2308, 'heyyou': 1979, 'give': 1805, 'bore': 553, 'status': 4121, 'awh': 399, 'definitely': 1132, 'buttload': 639, 'copy': 970, 'visual': 4640, 'studio': 4178, 'wethe': 4773, 'bright': 593, 'economics': 1339, 'upon': 4562, 'hundred': 2057, 'island': 2212, 'pride': 3198, 'philippine': 3056, 'fish': 1617, 'taste': 4282, 'surprised': 4239, 'everyone': 1462, 'recommend': 3502, 'airport': 109, 'id': 2075, 'comment': 869, 'torrent': 4422, 'trolley': 4468, 'remove': 3564, 'car': 680, 'mt': 2723, 'saturday': 3798, 'green': 1860, 'number': 2857, 'yea': 4950, 'quiet': 3400, 'death': 1111, 'nobody': 2818, 'cooking': 964, 'zone': 4996, 'youit': 4980, 'nopebut': 2833, 'everything': 1465, 'tempt': 4306, 'chocolate': 775, 'velvet': 4599, 'mocha': 2665, 'flash': 1625, 'fake': 1534, 'doc': 1245, 'repair': 3573, 'dream': 1293, 'lifetime': 2423, 'stare': 4112, 'wall': 4689, 'light': 2426, 'sister': 3964, 'uh': 4515, 'god': 1819, 'ruin': 3756, 'belly': 478, 'button': 640, 'frame': 1691, 'roger': 3733, 'rabbitmakes': 3437, 'cheap': 749, 'buying': 643, 'attempt': 357, 'nose': 2843, 'spin': 4082, 'combination': 863, 'vote': 4668, 'confidence': 912, 'budget': 620, 'due': 1307, 'apple': 273, 'king': 2318, 'quiz': 3409, 'others': 2938, 'raw': 3478, 'person': 3047, 'ish': 2211, 'prayer': 3173, 'real': 3487, 'exam': 1472, 'wow': 4923, 'giant': 1799, 'ampit': 180, 'famous': 1541, 'boston': 559, 'public': 3304, 'garden': 1765, 'globe': 1814, 'include': 2113, 'convict': 961, 'bloody': 528, 'garage': 1764, 'park': 2985, 'popular': 3147, 'quotby': 3414, 'reading': 3484, 'struggle': 4173, 'continue': 947, 'flower': 1638, 'goodi': 1832, 'pity': 3095, 'china': 769, 'best': 487, 'sofa': 4017, 'lodge': 2465, 'ampi': 176, 'sneak': 4007, 'zoo': 4997, 'kitty': 2323, 'cousin': 996, 'daddy': 1074, 'brother': 606, 'athlete': 350, 'trust': 4479, 'consider': 932, 'grr': 1878, 'date': 1093, 'tad': 4263, 'dress': 1294, 'yeahi': 4952, 'horrible': 2031, 'punk': 3329, 'rock': 3728, 'tuesday': 4484, 'britney': 598, 'ap': 261, 'cook': 962, 'county': 989, 'crap': 1010, 'root': 3739, 'forever': 1675, 'ebay': 1334, 'coleman': 844, 'premier': 3180, 'presentation': 3185, 'slide': 3994, 'previously': 3195, 'skin': 3977, 'straight': 4152, 'intro': 2189, 'fav': 1560, 'lip': 2441, 'click': 812, 'scream': 3826, 'furniture': 1746, 'half': 1910, 'peaceful': 3019, 'footage': 1665, 'support': 4231, 'version': 4603, 'app': 268, 'store': 4143, 'log': 2467, 'strongly': 4170, 'dislike': 1226, 'allergic': 126, 'chase': 746, 'ban': 425, 'small': 3999, 'print': 3204, 'waste': 4710, 'scary': 3811, 'gobut': 1818, 'wheat': 4791, 'dollar': 1259, 'nicely': 2805, 'sadi': 3775, 'ball': 423, 'computer': 897, 'sucksi': 4200, 'xbox': 4938, 'camp': 661, 'friday': 1711, 'exactly': 1471, 'todayi': 4396, 'shopping': 3921, 'turtle': 4495, 'mac': 2503, 'faster': 1553, 'pleasant': 3117, 'mum': 2732, 'wen': 4764, 'somewhere': 4032, 'arrange': 318, 'convert': 959, 'marry': 2553, 'ampthe': 194, 'matthew': 2573, 'absolutely': 8, 'curry': 1062, 'true': 4474, 'indian': 2130, 'beat': 458, 'knight': 2325, 'difference': 1197, 'hahaa': 1904, 'quotdefinitely': 3416, 'isnt': 2215, 'dance': 1081, 'team': 4292, 'goodnight': 1834, 'tweeter': 4500, 'confused': 918, 'bunch': 630, 'jumbo': 2281, 'uk': 4516, 'ampus': 206, 'moment': 2674, 'learn': 2387, 'brian': 589, 'dish': 1225, 'network': 2790, 'catch': 700, 'dry': 1301, 'set': 3879, 'foot': 1664, 'professor': 3230, 'lauren': 2371, 'youyou': 4985, 'drop': 1298, 'foo': 1661, 'mood': 2693, 'oven': 2956, 'minute': 2651, 'affect': 71, 'york': 4973, 'remark': 3557, 'nz': 2861, 'matt': 2571, 'disappointed': 1215, 'ep': 1418, 'mostly': 2706, 'horse': 2033, 'gossip': 1840, 'repeat': 3574, 'reckon': 3499, 'return': 3619, 'cream': 1015, 'different': 1198, 'strain': 4153, 'okay': 2895, 'ready': 3486, 'insomniac': 2154, 'flu': 1640, 'sleepin': 3988, 'water': 4713, 'prolly': 3254, 'earthquake': 1325, 'italy': 2223, 'server': 3876, 'dr': 1281, 'manage': 2529, 'trash': 4455, 'empty': 1386, 'radioactive': 3453, 'buy': 641, 'coz': 1004, 'sex': 3885, 'gift': 1800, 'whitney': 4816, 'cell': 715, 'risk': 3697, 'hit': 1997, 'pull': 3320, 'low': 2489, 'stomach': 4139, 'exercise': 1487, 'care': 683, 'hmmm': 2000, 'motivate': 2711, 'individual': 2132, 'penn': 3027, 'pc': 3013, 'living': 2453, 'room': 3738, 'suffer': 4204, 'itunes': 2229, 'pic': 3077, 'path': 3002, 'step': 4128, 'itexcited': 2225, 'stink': 4135, 'disco': 1217, 'gamebattles': 1760, 'white': 4813, 'anwb': 253, 'memorial': 2604, 'official': 2880, 'member': 2603, 'lack': 2343, 'funding': 1742, 'course': 991, 'crib': 1031, 'ahead': 93, 'fri': 1710, 'chill': 766, 'sat': 3796, 'dude': 1306, 'itit': 2227, 'exist': 1492, 'wht': 4831, 'nail': 2751, 'tour': 4427, 'ampneecee': 186, 'sigh': 3943, 'distribution': 1232, 'murphy': 2735, 'abt': 9, 'centre': 718, 'point': 3133, 'train': 4447, 'ram': 3463, 'commuter': 878, 'four': 1687, 'cash': 697, 'russian': 3766, 'paris': 2984, 'milk': 2635, 'worldi': 4914, 'final': 1601, 'none': 2826, 'custom': 1064, 'icon': 2071, 'edge': 1343, 'square': 4098, 'diff': 1196, 'background': 411, 'la': 2341, 'forum': 1681, 'frustrate': 1724, 'unfortunately': 4537, 'monster': 2684, 'order': 2929, 'receive': 3496, 'bak': 418, 'awwwww': 405, 'feelin': 1579, 'decisioni': 1119, 'part': 2990, 'spoil': 4089, 'slap': 3985, 'warm': 4703, 'march': 2543, 'gross': 1872, 'follower': 1658, 'whether': 4800, 'burn': 632, 'quotnot': 3424, 'north': 2840, 'aint': 100, 'draft': 1282, 'unexpected': 4536, 'funny': 1744, 'ci': 787, 'misty': 2660, 'quotsinglebut': 3428, 'rily': 3684, 'pulled': 3321, 'muscle': 2737, 'invite': 2201, 'healthy': 1950, 'dining': 1205, 'quotsession': 3426, 'workload': 4905, 'skip': 3979, 'hella': 1966, 'clothes': 823, 'great': 1858, 'bestie': 488, 'double': 1270, 'muir': 2729, 'respond': 3605, 'suck': 4199, 'wrong': 4932, 'decide': 1117, 'wtf': 4935, 'pissed': 3092, 'rule': 3757, 'market': 2550, 'boy': 572, 'blah': 516, 'sydney': 4255, 'joke': 2268, 'except': 1477, 'spell': 4076, 'vaccinate': 4587, 'bottle': 561, 'calf': 653, 'sam': 3787, 'disease': 1224, 'worki': 4904, 'wellso': 4757, 'insomnia': 2153, 'screen': 3827, 'corner': 972, 'line': 2436, 'dialogue': 1186, 'slice': 3993, 'thru': 4367, 'traffic': 4443, 'software': 4018, 'diet': 1195, 'jealous': 2247, 'debate': 1112, 'physical': 3073, 'sleepbut': 3987, 'google': 1835, 'language': 2353, 'speak': 4066, 'yia': 4969, 'comp': 879, 'clean': 807, 'bottom': 562, 'share': 3899, 'nomy': 2824, 'kal': 2289, 'visiting': 4635, 'quarteri': 3380, 'whatapparently': 4784, 'washington': 4709, 'winter': 4871, 'desk': 1168, 'left': 2394, 'inner': 2146, 'irritating': 2209, 'quotfeeling': 3418, 'sunday': 4217, 'awhile': 400, 'alarm': 117, 'wing': 4869, 'travel': 4456, 'france': 1693, 'mile': 2633, 'literature': 2449, 'cup': 1054, 'coffee': 839, 'dentist': 1148, 'drunk': 1300, 'huge': 2053, 'certain': 722, 'auntie': 368, 'law': 2372, 'twist': 4504, 'wellthat': 4759, 'frozen': 1723, 'kitchen': 2321, 'victoria': 4614, 'unpleasant': 4547, 'anybody': 255, 'afford': 72, 'expert': 1503, 'large': 2356, 'machine': 2505, 'usually': 4580, 'character': 739, 'austin': 370, 'qi': 3357, 'lesson': 2408, 'ten': 4307, 'shut': 3936, 'boring': 555, 'pa': 2964, 'bon': 541, 'essay': 1436, 'yeti': 4968, 'per': 3036, 'noooooo': 2831, 'noi': 2820, 'loyal': 2492, 'hand': 1918, 'stack': 4101, 'crack': 1008, 'brew': 587, 'tree': 4458, 'joband': 2259, 'eve': 1451, 'together': 4400, 'hire': 1992, 'plague': 3100, 'apparently': 269, 'hall': 1911, 'immediately': 2096, 'viable': 4610, 'sean': 3835, 'league': 2383, 'mint': 2650, 'ice': 2070, 'cone': 908, 'grand': 1851, 'refer': 3514, 'bike': 501, 'master': 2563, 'writebut': 4929, 'load': 2457, 'london': 2471, 'fab': 1520, 'robbie': 3723, 'bless': 523, 'completely': 893, 'wipe': 4872, 'contact': 942, 'whaaaai': 4779, 'workshop': 4909, 'lately': 2361, 'throughout': 4364, 'america': 154, 'anyway': 259, 'msg': 2722, 'lovely': 2488, 'vitamin': 4646, 'properly': 3264, 'italian': 2222, 'understood': 4532, 'onit': 2912, 'fact': 1525, 'genuinely': 1784, 'either': 1358, 'quite': 3408, 'yawn': 4947, 'ouch': 2942, 'promo': 3258, 'rum': 3758, 'horror': 2032, 'sleepless': 3990, 'highly': 1985, 'scan': 3808, 'risotto': 3705, 'yay': 4948, 'baseball': 440, 'yankee': 4945, 'circle': 793, 'suddenly': 4202, 'journey': 2277, 'stranger': 4156, 'quarter': 3379, 'darn': 1089, 'wayi': 4718, 'santa': 3793, 'dig': 1201, 'quit': 3407, 'suggest': 4207, 'affordable': 73, 'area': 305, 'leg': 2395, 'hi': 1980, 'wantbut': 4694, 'fix': 1621, 'month': 2688, 'hq': 2044, 'size': 3971, 'butt': 638, 'conversation': 957, 'interesting': 2179, 'offend': 2874, 'brilliant': 594, 'bring': 595, 'swap': 4245, 'shout': 3928, 'outyou': 2954, 'record': 3504, 'rt': 3749, 'apprentice': 279, 'hd': 1943, 'single': 3961, 'ruddy': 3753, 'quotu': 3433, 'seat': 3839, 'force': 1669, 'mobile': 2664, 'concentrate': 899, 'enter': 1409, 'nonsense': 2827, 'achesshoot': 26, 'premise': 3182, 'quotbook': 3413, 'didnt': 1192, 'reader': 3483, 'quotis': 3422, 'making': 2525, 'decent': 1116, 'rate': 3476, 'flog': 1633, 'inch': 2111, 'ground': 1873, 'count': 984, 'grateful': 1856, 'tooi': 4416, 'sooooooo': 4041, 'somehow': 4027, 'cruise': 1041, 'group': 1874, 'campus': 663, 'outline': 2949, 'texas': 4323, 'nopei': 2834, 'along': 133, 'maternity': 2569, 'strange': 4154, 'painful': 2970, 'robot': 3726, 'def': 1129, 'noon': 2829, 'direction': 1208, 'goodness': 1833, 'rash': 3473, 'yeswe': 4966, 'squeeze': 4099, 'total': 4423, 'cost': 979, 'resource': 3603, 'kelly': 2297, 'wif': 4838, 'grass': 1855, 'thursday': 4370, 'ily': 2091, 'doi': 1258, 'conflict': 916, 'coaching': 832, 'exceptional': 1479, 'talent': 4271, 'glass': 1809, 'meat': 2590, 'quotverruca': 3434, 'puerto': 3316, 'rican': 3657, 'slow': 3997, 'hun': 2056, 'blood': 527, 'united': 4541, 'si': 3938, 'africa': 76, 'damnmy': 1079, 'looki': 2476, 'bawl': 449, 'rachel': 3440, 'laugh': 2368, 'quotto': 3432, 'pitch': 3094, 'lower': 2490, 'wood': 4895, 'yeh': 4958, 'proposal': 3268, 'pm': 3127, 'quotme': 3423, 'japan': 2241, 'release': 3552, 'ita': 2220, 'classic': 804, 'integrate': 2169, 'bag': 417, 'goodbut': 1831, 'search': 3837, 'todayso': 4398, 'answer': 248, 'cos': 978, 'fast': 1552, 'whygreat': 4833, 'launch': 2369, 'pwc': 3349, 'inform': 2142, 'nowi': 2852, 'revision': 3631, 'revisionsi': 3632, 'smart': 4000, 'experiment': 1502, 'yield': 4970, 'bored': 554, 'minimum': 2647, 'williams': 4852, 'innow': 2149, 'waitin': 4683, 'theory': 4341, 'van': 4592, 'main': 2516, 'road': 3720, 'laidsad': 2345, 'revolution': 3640, 'earlier': 1320, 'rofl': 3732, 'hannah': 1921, 'sport': 4091, 'evening': 1453, 'join': 2266, 'rexthen': 3646, 'rex': 3645, 'thoroughly': 4354, 'rainy': 3459, 'til': 4375, 'extremely': 1518, 'ohhhh': 2889, 'summer': 4213, 'oneit': 2908, 'spam': 4060, 'extra': 1516, 'paycheck': 3011, 'vomit': 4664, 'hospital': 2035, 'en': 1387, 'ampworsee': 212, 'shake': 3891, 'sort': 4048, 'natasha': 2759, 'richardson': 3664, 'tablet': 4261, 'gooood': 1836, 'anonymous': 246, 'catering': 704, 'oakland': 2863, 'ampin': 178, 'da': 1072, 'elementary': 1363, 'an': 219, 'brake': 576, 'employ': 1381, 'box': 571, 'ini': 2144, 'embed': 1372, 'tiny': 4388, 'prune': 3296, 'appointment': 276, 'everyonee': 1463, 'kyte': 2340, 'puff': 3317, 'pudding': 3315, 'happyover': 1926, 'againi': 80, 'wa': 4676, 'focus': 1649, 'gas': 1767, 'pump': 3325, 'note': 2844, 'slot': 3996, 'gamble': 1756, 'closer': 822, 'interest': 2176, 'regret': 3529, 'el': 1359, 'color': 855, 'vip': 4625, 'guest': 1887, 'shock': 3917, 'pass': 2996, 'case': 694, 'thatbut': 4333, 'void': 4657, 'chap': 738, 'ye': 4949, 'amsterdam': 216, 'anxiety': 254, 'hsnging': 2047, 'grow': 1876, 'germany': 1793, 'hint': 1990, 'clear': 808, 'wevery': 4775, 'sign': 3944, 'shirt': 3914, 'amazing': 149, 'describe': 1162, 'bio': 505, 'land': 2349, 'develop': 1177, 'tv': 4496, 'allergy': 127, 'announcement': 240, 'mother': 2709, 'cough': 981, 'rise': 3696, 'thesis': 4344, 'egg': 1355, 'sleeping': 3989, 'apt': 285, 'windy': 4867, 'topic': 4419, 'expensive': 1499, 'rejoin': 3543, 'kiss': 2319, 'error': 1432, 'excellent': 1476, 'navy': 2767, 'doggy': 1256, 'zurich': 4999, 'zoom': 4998, 'educational': 1349, 'motivation': 2712, 'nooo': 2830, 'west': 4768, 'coast': 833, 'doze': 1280, 'badly': 416, 'australia': 371, 'layin': 2375, 'yo': 4971, 'driver': 1297, 'reality': 3489, 'wellshe': 4756, 'doubt': 1271, 'beauty': 461, 'separate': 3865, 'shakily': 3893, 'conquer': 928, 'digital': 1203, 'signal': 3945, 'wantenna': 4696, 'special': 4070, 'reserve': 3592, 'appear': 271, 'nowhere': 2851, 'claim': 802, 'rack': 3447, 'grant': 1853, 'aid': 98, 'whats': 4790, 'whelp': 4796, 'normal': 2837, 'shave': 3901, 'chick': 760, 'quant': 3371, 'legal': 2397, 'process': 3220, 'assessment': 338, 'cancel': 665, 'plane': 3103, 'fair': 1530, 'dear': 1110, 'tom': 4404, 'quoton': 3425, 'turd': 4492, 'awful': 398, 'imagine': 2095, 'thankful': 4329, 'michael': 2623, 'curse': 1063, 'alway': 146, 'korean': 2334, 'quotso': 3429, 'holy': 2011, 'original': 2935, 'mark': 2549, 'harsh': 1933, 'staple': 4110, 'chip': 773, 'worse': 4919, 'hip': 1991, 'nephew': 2784, 'chu': 783, 'ski': 3974, 'tr': 4434, 'ng': 2801, 'vi': 4608, 'vid': 4615, 'require': 3588, 'high': 1983, 'wit': 4878, 'dinner': 1206, 'connect': 925, 'dm': 1241, 'compassion': 883, 'relative': 3549, 'smile': 4002, 'issue': 2217, 'deep': 1126, 'max': 2574, 'ticket': 4371, 'hm': 1999, 'freakin': 1701, 'current': 1060, 'challenge': 729, 'international': 2185, 'david': 1096, 'question': 3389, 'form': 1677, 'jakelmfaoits': 2235, 'frikkin': 1720, 'awesomei': 397, 'effin': 1353, 'awwwhoping': 403, 'naxxxx': 2768, 'hehe': 1962, 'danish': 1087, 'ampmy': 184, 'flake': 1624, 'wha': 4778, 'upgrade': 4559, 'humor': 2055, 'super': 4223, 'tear': 4293, 'gig': 1801, 'ace': 24, 'begin': 465, 'heartbreaking': 1955, 'frankly': 1698, 'fu': 1730, 'penguin': 3025, 'origin': 2934, 'knee': 2324, 'blue': 530, 'rot': 3740, 'mexico': 2618, 'havent': 1941, 'recommendation': 3503, 'mary': 2556, 'ignore': 2083, 'hoo': 2023, 'major': 2520, 'ohyou': 2891, 'field': 1594, 'wave': 4715, 'th': 4327, 'service': 3877, 'nighti': 2809, 'commit': 872, 'instal': 2160, 'window': 4864, 'ah': 92, 'pregnant': 3179, 'non': 2825, 'equal': 1422, 'murder': 2734, 'peace': 3018, 'understanding': 4531, 'satisfy': 3797, 'starve': 4115, 'surprise': 4238, 'basically': 443, 'rewrite': 3644, 'wanti': 4697, 'goo': 1827, 'lie': 2420, 'amy': 218, 'whf': 4801, 'derek': 1161, 'safari': 3777, 'tks': 4394, 'anatolia': 225, 'situation': 3969, 'typical': 4509, 'british': 597, 'angry': 234, 'nowtime': 2854, 'citymore': 799, 'tattoosand': 4285, 'sociology': 4014, 'gummi': 1891, 'windows': 4866, 'shall': 3894, 'build': 622, 'cue': 1050, 'tongue': 4411, 'soup': 4052, 'offi': 2877, 'stage': 4105, 'breakup': 581, 'rachthank': 3442, 'cooky': 965, 'welli': 4750, 'favourite': 1564, 'club': 826, 'judge': 2279, 'moroccan': 2701, 'tea': 4290, 'kenyan': 2302, 'exciting': 1483, 'disneyland': 1227, 'rly': 3714, 'daymy': 1103, 'likely': 2432, 'spread': 4094, 'ring': 3685, 'moth': 2708, 'frank': 1696, 'morgan': 2697, 'race': 3438, 'pup': 3330, 'reject': 3541, 'thanksi': 4332, 'joy': 2278, 'lazy': 2377, 'brain': 575, 'pathway': 3003, 'agoi': 89, 'appreciate': 277, 'dreaded': 1292, 'mate': 2567, 'obviously': 2868, 'paramount': 2982, 'cnn': 829, 'pond': 3141, 'near': 2770, 'homehow': 2015, 'feature': 1569, 'industrial': 2135, 'strength': 4163, 'bitch': 511, 'shift': 3909, 'holland': 2007, 'nowhave': 2850, 'hrs': 2046, 'beware': 493, 'especially': 1435, 'lane': 2352, 'moon': 2695, 'shot': 3926, 'pour': 3161, 'steak': 4125, 'lunch': 2499, 'doh': 1257, 'youbut': 4976, 'instead': 2162, 'liked': 2431, 'limit': 2434, 'tony': 4415, 'circulation': 795, 'ce': 710, 'self': 3853, 'whip': 4811, 'melt': 2602, 'husband': 2063, 'acknowledge': 30, 'wellspent': 4758, 'noise': 2821, 'creepy': 1026, 'dis': 1212, 'truth': 4481, 'peep': 3024, 'lab': 2342, 'report': 3578, 'jack': 2232, 'agree': 90, 'projectfeels': 3245, 'realise': 3488, 'cali': 654, 'seven': 3881, 'goal': 1817, 'grad': 1848, 'charge': 740, 'board': 531, 'associate': 343, 'convention': 956, 'ampthere': 196, 'attend': 358, 'demand': 1143, 'june': 2283, 'drama': 1285, 'discovery': 1220, 'employee': 1382, 'jam': 2236, 'subscription': 4194, 'worknow': 4906, 'delay': 1135, 'san': 3789, 'diego': 1194, 'fresh': 1709, 'bird': 506, 'accountdid': 19, 'au': 363, 'todaynot': 4397, 'ampthinking': 198, 'plus': 3124, 'air': 101, 'condition': 906, 'trend': 4460, 'blog': 526, 'draw': 1287, 'whybut': 4832, 'downand': 1274, 'quietly': 3403, 'dread': 1291, 'poorly': 3145, 'lung': 2500, 'function': 1738, 'melbourne': 2601, 'police': 3137, 'department': 1152, 'whoa': 4819, 'profilei': 3233, 'blank': 519, 'psp': 3298, 'anywhere': 260, 'solution': 4024, 'spanish': 4061, 'sims': 3955, 'prefer': 3178, 'youre': 4982, 'secret': 3842, 'projectsand': 3249, 'meplease': 2609, 'revise': 3629, 'knowwe': 2329, 'east': 1328, 'perfectly': 3040, 'ripe': 3694, 'banana': 426, 'freight': 1706, 'ampwas': 209, 'rufus': 3755, 'bud': 618, 'past': 3000, 'fairly': 1532, 'math': 2570, 'magic': 2512, 'sophia': 4042, 'terrific': 4314, 'negative': 2778, 'rid': 3669, 'loser': 2480, 'horizon': 2029, 'phoebe': 3057, 'bd': 452, 'ab': 2, 'quotstuff': 3431, 'lend': 2403, 'montana': 2686, 'shin': 3911, 'caught': 706, 'contract': 949, 'slightly': 3995, 'rlyi': 3715, 'rightmy': 3678, 'camera': 660, 'dominate': 1262, 'physically': 3074, 'quotcroissant': 3415, 'ampzuraidah': 215, 'control': 953, 'cheer': 752, 'indoors': 2133, 'contemplate': 943, 'wantlusting': 4698, 'suggestion': 4208, 'whatmy': 4789, 'chronic': 782, 'valid': 4588, 'awwww': 404, 'entertain': 1410, 'setup': 3880, 'whoh': 4822, 'ai': 97, 'pixar': 3096, 'entire': 1412, 'feeding': 1577, 'response': 3606, 'contradict': 950, 'annual': 244, 'du': 1305, 'cape': 674, 'jimmy': 2255, 'rn': 3717, 'sugar': 4206, 'fry': 1725, 'rice': 3658, 'sometimes': 4031, 'sale': 3784, 'potential': 3158, 'surface': 4236, 'development': 1178, 'laundry': 2370, 'proud': 3287, 'friendsi': 1719, 'togetheri': 4401, 'puttin': 3345, 'nah': 2750, 'passenger': 2997, 'journalist': 2276, 'copenhagen': 969, 'rider': 3671, 'sample': 3788, 'extravagant': 1517, 'dutch': 1314, 'whine': 4809, 'housing': 2043, 'qidong': 3358, 'plant': 3109, 'maintenance': 2519, 'cc': 709, 'vodkanope': 4654, 'whore': 4829, 'rach': 3439, 'mormon': 2698, 'pro': 3216, 'panic': 2978, 'sooner': 4038, 'goin': 1820, 'cable': 648, 'gorgeous': 1838, 'lady': 2344, 'framework': 1692, 'module': 2671, 'dobut': 1244, 'impossible': 2104, 'third': 4351, 'bullshit': 628, 'lion': 2440, 'amptigers': 200, 'quotshyt': 3427, 'le': 2378, 'five': 1620, 'fm': 1645, 'audio': 364, 'willing': 4854, 'tune': 4490, 'piano': 3076, 'editing': 1345, 'wed': 4737, 'door': 1268, 'stretch': 4165, 'regular': 3530, 'fool': 1663, 'spit': 4086, 'graft': 1850, 'bridge': 591, 'throw': 4365, 'resent': 3591, 'strike': 4167, 'creativity': 1021, 'reheated': 3538, 'momentum': 2675, 'appeal': 270, 'clue': 827, 'engage': 1397, 'justin': 2288, 'dc': 1105, 'helluva': 1968, 'blow': 529, 'level': 2412, 'familiar': 1539, 'christmas': 779, 'role': 3734, 'treat': 4457, 'latte': 2367, 'wisdom': 4875, 'teeth': 4303, 'ceramic': 721, 'price': 3196, 'duration': 1311, 'entry': 1415, 'tone': 4409, 'tech': 4295, 'bin': 504, 'mandy': 2535, 'obama': 2864, 'istanbul': 2219, 'effect': 1351, 'sunshine': 4222, 'concert': 903, 'yep': 4959, 'bite': 512, 'sf': 3887, 'circumstance': 796, 'pulledneed': 3322, 'needle': 2777, 'bath': 446, 'construction': 939, 'groce': 1868, 'blend': 522, 'coastal': 834, 'landscape': 2351, 'sheffield': 3905, 'massachusetts': 2560, 'view': 4618, 'rework': 3643, 'scrap': 3824, 'material': 2568, 'balloon': 424, 'provide': 3292, 'across': 32, 'remote': 3562, 'float': 1632, 'vondalwig': 4665, 'architecture': 296, 'overhaul': 2959, 'hudson': 2051, 'taiwan': 4266, 'keen': 2295, 'gardener': 1766, 'connection': 926, 'outdoors': 2944, 'founder': 1686, 'empower': 1385, 'embrace': 1374, 'colour': 857, 'interior': 2181, 'switch': 4252, 'socket': 4016, 'staircase': 4106, 'floor': 1635, 'tokyo': 4403, 'furnishing': 1745, 'colourful': 858, 'reflect': 3516, 'diversity': 1236, 'research': 3589, 'front': 1722, 'advantage': 62, 'designer': 1166, 'carbon': 681, 'product': 3223, 'dezeenwe': 1183, 'highlight': 1984, 'virtual': 4628, 'festival': 1585, 'programme': 3239, 'event': 1454, 'volume': 4662, 'geometric': 1788, 'forest': 1674, 'collaboration': 847, 'brand': 577, 'showcase': 3930, 'pavilion': 3008, 'roof': 3737, 'stark': 4113, 'montreal': 2690, 'residencewhich': 3596, 'puncture': 3328, 'prefab': 3176, 'ko': 2330, 'structure': 4172, 'tropical': 4470, 'building': 624, 'owner': 2963, 'visually': 4644, 'coronavirus': 973, 'confine': 913, 'artist': 328, 'utopian': 4582, 'invest': 2191, 'movement': 2719, 'planet': 3105, 'urban': 4569, 'wildernesseshere': 4845, 'produce': 3222, 'speaks': 4069, 'dezeen': 1182, 'virtualdesignfestival': 4629, 'opening': 2920, 'performance': 3042, 'http': 2048, 'pink': 3089, 'arch': 288, 'architect': 292, 'scott': 3823, 'col': 842, 'ultimately': 4520, 'fashion': 1551, 'distancing': 1230, 'tool': 4417, 'barcelona': 434, 'accessory': 14, 'showcasing': 3931, 'peter': 3052, 'reveal': 3622, 'pair': 2973, 'pi': 3075, 'musician': 2740, 'yzy': 4990, 'shelter': 3907, 'prototype': 3286, 'prefabricate': 3177, 'museum': 2738, 'diverse': 1235, 'spiral': 4084, 'tower': 4432, 'attraction': 362, 'outfit': 2945, 'pigment': 3083, 'concrete': 905, 'beverly': 492, 'residence': 3595, 'elevate': 1365, 'botanical': 560, 'concept': 900, 'transport': 4454, 'stylish': 4188, 'underground': 4527, 'pl': 3097, 'gridded': 1865, 'facade': 1522, 'nature': 2764, 'festivaltake': 1586, 'student': 4176, 'present': 3184, 'vision': 4632, 'environmental': 1417, 'eight': 1357, 'skyscraper': 3984, 'replace': 3575, 'resident': 3597, 'childhood': 765, 'cedar': 711, 'pioneer': 3090, 'browse': 608, 'courtyard': 995, 'sky': 3981, 'series': 3871, 'alternative': 142, 'plastic': 3111, 'loon': 2477, 'deploy': 1155, 'fleet': 1627, 'caption': 678, 'vdf': 4597, 'institute': 2163, 'curious': 1059, 'subterranean': 4195, 'unveil': 4553, 'mexican': 2617, 'ocean': 2871, 'casa': 693, 'naila': 2752, 'royal': 3747, 'academy': 11, 'flag': 1622, 'micro': 2626, 'apartment': 263, 'storage': 4142, 'situate': 3968, 'village': 4621, 'spain': 4059, 'rioja': 3690, 'region': 3524, 'exhibit': 1489, 'collection': 850, 'atelier': 349, 'enrol': 1406, 'entirely': 1413, 'timber': 4381, 'eastern': 1330, 'perform': 3041, 'kit': 2320, 'pentatonic': 3030, 'fol': 1653, 'football': 1666, 'directly': 1210, 'row': 3746, 'ongoing': 2911, 'strip': 4168, 'yearsthe': 4956, 'previous': 3194, 'warren': 4706, 'booth': 550, 'former': 1678, 'whi': 4802, 'cabin': 647, 'plywood': 3125, 'takbir': 4267, 'fatima': 1559, 'discuss': 1222, 'innovative': 2148, 'initiative': 2145, 'fully': 1735, 'hybrid': 2068, 'steel': 4127, 'mask': 2558, 'mont': 2685, 'balance': 421, 'vintage': 4623, 'complex': 895, 'stone': 4140, 'brick': 590, 'adjaye': 54, 'brixton': 599, 'atlassian': 354, 'headquarters': 1946, 'tall': 4274, 'device': 1179, 'human': 2054, 'task': 4281, 'alongside': 134, 'technology': 4300, 'din': 1204, 'rear': 3492, 'de': 1106, 'bond': 542, 'discover': 1219, 'gabriel': 1749, 'chipperfield': 774, 'alice': 122, 'wonderland': 4891, 'newsagent': 2796, 'commitment': 873, 'sneaker': 4008, 'among': 158, 'nike': 2811, 'ultra': 4521, 'american': 155, 'kanye': 2292, 'explore': 1506, 'adaptive': 46, 'reuse': 3621, 'curator': 1057, 'revised': 3630, 'zeller': 4993, 'ampmoye': 183, 'avoid': 386, 'pine': 3088, 'stadium': 4102, 'chiave': 758, 'joost': 2274, 'bleijswijk': 521, 'lighting': 2428, 'church': 786, 'czech': 1071, 'republic': 3584, 'primary': 3200, 'chan': 733, 'recently': 3498, 'sustainable': 4244, 'luxury': 2502, 'guesthouse': 1888, 'occupy': 2869, 'married': 2552, 'voted': 4669, 'institution': 2164, 'amplifier': 182, 'plug': 3123, 'hut': 2066, 'retreat': 3617, 'engineering': 1400, 'firm': 1615, 'arup': 329, 'street': 4160, 'planter': 3110, 'theatre': 4338, 'pandemic': 2977, 'todaywe': 4399, 'pool': 3142, 'foster': 1683, 'partner': 2993, 'masterplan': 2565, 'slender': 3992, 'flood': 1634, 'natural': 2763, 'inside': 2151, 'space': 4058, 'milton': 2642, 'glaser': 1808, 'graphic': 1854, 'six': 3970, 'decade': 1113, 'edition': 1346, 'climb': 816, 'european': 1449, 'rod': 3731, 'whitechief': 4814, 'discus': 1221, 'rapidly': 3471, 'transform': 4450, 'endure': 1393, 'await': 388, 'upcoming': 4556, 'impress': 2105, 'style': 4186, 'speech': 4074, 'wooden': 4896, 'shutter': 3937, 'collaborate': 846, 'mountain': 2716, 'refuge': 3519, 'silkworm': 3950, 'worker': 4902, 'creation': 1018, 'rethink': 3613, 'purpose': 3337, 'workplace': 4908, 'compile': 889, 'image': 2093, 'incredibly': 2124, 'safdie': 3778, 'skybridge': 3982, 'raffle': 3456, 'greek': 1859, 'quality': 3370, 'mumbai': 2733, 'rich': 3660, 'western': 4769, 'india': 2129, 'playful': 3116, 'touch': 4425, 'apply': 275, 'ship': 3913, 'social': 4011, 'soho': 4019, 'twice': 4502, 'resort': 3602, 'southern': 4056, 'ame': 152, 'represent': 3581, 'hampshire': 1917, 'willy': 4857, 'lake': 2346, 'installation': 2161, 'seoul': 3863, 'punctuate': 3327, 'type': 4508, 'pattern': 3004, 'graduate': 1849, 'kim': 2312, 'chair': 727, 'perch': 3037, 'sweep': 4247, 'sail': 3782, 'atop': 355, 'cube': 1049, 'regionright': 3526, 'winner': 4870, 'route': 3744, 'aesthetic': 69, 'hong': 2020, 'kong': 2332, 'simple': 3953, 'factory': 1527, 'opportunity': 2925, 'architectural': 295, 'technique': 4298, 'brutalist': 612, 'traditional': 4442, 'riadsthat': 3653, 'shade': 3889, 'ong': 2910, 'biennale': 498, 'renovation': 3569, 'economic': 1338, 'innovation': 2147, 'riverside': 3711, 'protective': 3280, 'cave': 708, 'documentary': 1251, 'vastu': 4596, 'shilpa': 3910, 'consultant': 940, 'central': 717, 'finance': 1604, 'mvrdv': 2744, 'iconic': 2072, 'expo': 1509, 'meaningful': 2587, 'intelligent': 2171, 'evolution': 1468, 'representation': 3582, 'ricostruzione': 3668, 'mc': 2580, 'guide': 1889, 'belfast': 473, 'waterside': 4714, 'henning': 1972, 'larsen': 2357, 'approval': 282, 'arquitectura': 317, 'community': 876, 'hwang': 2067, 'universal': 4542, 'architecten': 293, 'showroom': 3933, 'nendo': 2783, 'ampassociates': 161, 'helpful': 1970, 'example': 1474, 'villa': 4620, 'creative': 1019, 'biennial': 499, 'announces': 241, 'participant': 2991, 'tallinn': 4276, 'shortlist': 3925, 'ampdesign': 164, 'webinar': 4733, 'barbara': 432, 'educate': 1348, 'uplift': 4560, 'vmdo': 4651, 'justice': 2287, 'future': 1747, 'unstudio': 4550, 'national': 2761, 'young': 4981, 'award': 390, 'experiential': 1501, 'reinvent': 3540, 'planning': 3107, 'increasingly': 2122, 'health': 1948, 'center': 716, 'ch': 724, 'security': 3846, 'oak': 2862, 'pas': 2995, 'walker': 4687, 'smooth': 4005, 'african': 78, 'district': 1233, 'revitalize': 3636, 'astoria': 347, 'production': 3224, 'extension': 1514, 'basel': 441, 'herzog': 1976, 'ampde': 163, 'meuron': 2616, 'robert': 3724, 'vmd': 4650, 'taller': 4275, 'escape': 1433, 'private': 3211, 'prous': 3289, 'available': 377, 'select': 3852, 'photographer': 3062, 'cultural': 1051, 'denmark': 1147, 'mda': 2584, 'sir': 3963, 'honor': 2021, 'jeff': 2248, 'capture': 679, 'political': 3140, 'practice': 3169, 'inspiration': 2155, 'appearance': 272, 'us': 4572, 'multifunctional': 2731, 'tong': 4410, 'farm': 1547, 'boutique': 568, 'rad': 3448, 'fundamental': 1740, 'omega': 2902, 'tulip': 4487, 'earth': 1323, 'combat': 862, 'viral': 4626, 'lisbon': 2443, 'australian': 372, 'breathe': 583, 'vtn': 4675, 'wang': 4692, 'contemporary': 944, 'chinese': 772, 'chaoffice': 737, 'breeze': 584, 'symphony': 4256, 'archstudio': 303, 'boundary': 565, 'oscar': 2936, 'arquitectos': 316, 'phu': 3072, 'alexander': 121, 'era': 1428, 'powerful': 3165, 'weak': 4723, 'eric': 1430, 'career': 684, 'impact': 2100, 'warchitect': 4702, 'dome': 1261, 'desert': 1163, 'wendell': 4765, 'taylor': 4288, 'territory': 4316, 'arizona': 311, 'native': 2762, 'sea': 3834, 'interiordesign': 2182, 'decor': 1122, 'country': 987, 'decoration': 1123, 'homedecor': 2014, 'ming': 2646, 'architects': 294, 'mount': 2715, 'davy': 1097, 'warner': 4705, 'trinity': 4465, 'lounge': 2485, 'riviera': 3712, 'palm': 2976, 'ampwarner': 208, 'bates': 445, 'masi': 2557, 'berlin': 484, 'dick': 1189, 'stuart': 4174, 'silk': 3949, 'summit': 4214, 'ben': 480, 'peek': 3023, 'berman': 485, 'horn': 2030, 'farmhouse': 1548, 'ana': 220, 'kate': 2293, 'amphariri': 172, 'loft': 2466, 'mill': 2637, 'penthouse': 3031, 'haus': 1940, 'flex': 1629, 'model': 2667, 'shed': 3902, 'lamp': 2348, 'pearson': 3021, 'miami': 2622, 'queeste': 3385, 'beijing': 471, 'river': 3707, 'ampgrant': 170, 'carney': 691, 'moscow': 2703, 'denton': 1149, 'canyon': 671, 'baker': 420, 'riot': 3691, 'blocher': 524, 'harbour': 1927, 'richard': 3661, 'westlight': 4770, 'mcclellan': 2581, 'avenue': 379, 'pod': 3129, 'greg': 1862, 'wright': 4927, 'barn': 435, 'mirror': 2653, 'skylight': 3983, 'vizoso': 4649, 'general': 1776, 'scenario': 3812, 'joel': 2262, 'vista': 4638, 'jim': 2254, 'ridge': 3673, 'william': 4850, 'modernist': 2670, 'saint': 3783, 'anita': 236, 'whitten': 4818, 'offer': 2876, 'efficient': 1352, 'approach': 280, 'revolutionize': 3642, 'conservation': 930, 'redefine': 3508, 'environment': 1416, 'illustrate': 2089, 'urbanism': 4570, 'deadline': 1108, 'finalist': 1602, 'publicationand': 3307, 'built': 626, 'indicate': 2131, 'qishe': 3359, 'projectoftheday': 3248, 'proliferate': 3252, 'netherlands': 2787, 'inspire': 2157, 'detail': 1172, 'prove': 3290, 'necessary': 2774, 'talented': 4272, 'professional': 3229, 'kengo': 2300, 'kuma': 2337, 'spatial': 4064, 'drawing': 1289, 'hadid': 1900, 'instagram': 2159, 'joan': 2257, 'whidbey': 4804, 'argue': 308, 'unapologetic': 4523, 'scaleaesthetic': 3807, 'utilitarian': 4581, 'thousand': 4358, 'yard': 4946, 'basic': 442, 'rajasthan': 3461, 'puri': 3335, 'portfolio': 3149, 'achieve': 27, 'architizer': 300, 'newsletterexplore': 2798, 'onedrawingchallenge': 2905, 'juror': 2285, 'program': 3236, 'competition': 886, 'article': 326, 'announce': 238, 'echo': 1336, 'chamber': 730, 'platform': 3112, 'apology': 267, 'processbut': 3221, 'submission': 4191, 'ou': 2941, 'display': 1228, 'gallery': 1754, 'publication': 3306, 'jury': 2286, 'brutalism': 611, 'perfect': 3039, 'revitautocadrhino': 3637, 'recent': 3497, 'principle': 3203, 'architectureinto': 297, 'action': 34, 'prize': 3215, 'locally': 2461, 'vietnam': 4617, 'systemic': 4258, 'racism': 3444, 'emerge': 1375, 'ensure': 1408, 'drawingtell': 1290, 'storywin': 4150, 'locate': 2462, 'leisure': 2402, 'newsletter': 2797, 'survey': 4241, 'midnight': 2629, 'dramatic': 1286, 'government': 1843, 'section': 3843, 'workstation': 4910, 'cooke': 963, 'engine': 1398, 'accurate': 22, 'paint': 2971, 'detailed': 1173, 'fascinating': 1550, 'atrium': 356, 'zaha': 4991, 'proj': 3243, 'benefit': 482, 'sculpting': 3831, 'closely': 821, 'collective': 851, 'industry': 2136, 'extensive': 1515, 'birth': 508, 'permission': 3046, 'james': 2237, 'vast': 4595, 'structural': 4171, 'serve': 3875, 'includin': 2114, 'unique': 4539, 'projectwith': 3251, 'truly': 4476, 'wondrous': 4892, 'information': 2143, 'reminder': 3560, 'prepare': 3183, 'certainly': 723, 'organization': 2931, 'conduct': 907, 'bruce': 609, 'million': 2641, 'cl': 801, 'actively': 36, 'rendering': 3567, 'visualization': 4642, 'medium': 2597, 'tend': 4308, 'quaker': 3366, 'reed': 3512, 'ceo': 720, 'typically': 4510, 'protect': 3277, 'rio': 3689, 'leong': 2405, 'photograph': 3061, 'inaugural': 2107, 'active': 35, 'sharpen': 3900, 'wine': 4868, 'mwworks': 2745, 'promesthe': 3255, 'dynamic': 1317, 'quadrant': 3365, 'terrace': 4312, 'undoubtedly': 4535, 'epic': 1419, 'kimberly': 2313, 'dowdellpresident': 1273, 'redefinednewly': 3509, 'focused': 1650, 'mission': 2657, 'photography': 3064, 'paul': 3006, 'keskeys': 2304, 'lloyd': 2454, 'alter': 141, 'amptheresa': 197, 'casey': 696, 'sho': 3916, 'seek': 3849, 'esteemed': 1440, 'wild': 4842, 'los': 2478, 'angeles': 233, 'lgbt': 2414, 'deeply': 1127, 'racial': 3443, 'witness': 4883, 'weeksthe': 4744, 'foundation': 1685, 'nation': 2760, 'solidarity': 4022, 'vital': 4645, 'shenzhen': 3908, 'ri': 3652, 'preston': 3189, 'hollow': 2008, 'renowned': 3570, 'christo': 780, 'painting': 2972, 'colorful': 856, 'hagia': 1901, 'confirm': 914, 'presidential': 3187, 'hagiasophia': 1902, 'biden': 497, 'columbia': 859, 'climate': 814, 'alao': 116, 'architecturejobs': 298, 'archinectjobs': 290, 'fridayinspiration': 1712, 'archinectprojects': 291, 'monument': 2692, 'trump': 4477, 'sculpture': 3832, 'residential': 3598, 'turkish': 4493, 'historic': 1994, 'mosque': 2704, 'inter': 2174, 'historian': 1993, 'tulane': 4486, 'propose': 3270, 'manhattan': 2536, 'employment': 1384, 'josephkunkel': 2275, 'regina': 3523, 'redwood': 3511, 'douglas': 1272, 'adapt': 45, 'standard': 4109, 'pressure': 3188, 'saudi': 3799, 'arabia': 287, 'effort': 1354, 'sector': 3844, 'sue': 4203, 'administration': 55, 'foreign': 1673, 'hunter': 2061, 'ayn': 406, 'rand': 3465, 'hidden': 1981, 'ampgove': 169, 'aa': 0, 'leadership': 2381, 'toronto': 4421, 'visualize': 4643, 'data': 1091, 'weekly': 4743, 'employer': 1383, 'designinspirationcheck': 1167, 'ampponds': 189, 'ppp': 3168, 'loan': 2458, 'bookstore': 547, 'librairie': 2418, 'spirit': 4085, 'marina': 2548, 'donation': 1265, 'unveils': 4554, 'renew': 3568, 'prospect': 3274, 'ar': 286, 'il': 2086, 'oppose': 2926, 'triangular': 4461, 'society': 4013, 'expose': 1510, 'warsaw': 4707, 'mondaystart': 2680, 'archinect': 289, 'profile': 3231, 'affordablehousing': 74, 'routine': 3745, 'explores': 1508, 'guangzhou': 1882, 'regenerative': 3522, 'unit': 4540, 'archive': 302, 'prolific': 3253, 'century': 719, 'commercial': 870, 'insight': 2152, 'concern': 901, 'shadow': 3890, 'engineer': 1399, 'grocery': 1869, 'automation': 375, 'wholefoods': 4825, 'federal': 1572, 'association': 344, 'crisis': 1032, 'morningthis': 2700, 'arena': 306, 'atlanta': 351, 'georgia': 1790, 'voting': 4672, 'pedestrian': 3022, 'cycling': 1070, 'representative': 3583, 'revitalization': 3635, 'riverfront': 3709, 'prvok': 3297, 'francisco': 1695, 'ampwxy': 213, 'ucla': 4511, 'narrative': 2757, 'boom': 548, 'alan': 115, 'reform': 3518, 'underway': 4534, 'publishes': 3313, 'senior': 3859, 'revere': 3625, 'delivery': 1141, 'lean': 2385, 'storm': 4146, 'equality': 1423, 'mondayinspiration': 2679, 'mass': 2559, 'passive': 2999, 'consistent': 934, 'offensive': 2875, 'quote': 3417, 'prison': 3208, 'jail': 2234, 'inaugurate': 2108, 'antonio': 251, 'independent': 2126, 'detroit': 1175, 'neighborhood': 2780, 'charles': 742, 'monthly': 2689, 'icymi': 2073, 'thomas': 4353, 'heatherwick': 1958, 'ryan': 3770, 'relationship': 3547, 'mak': 2521, 'schindler': 3817, 'xlab': 4939, 'agenda': 84, 'nowthe': 2853, 'ham': 1914, 'withbut': 4879, 'culture': 1052, 'circular': 794, 'sophisticated': 4044, 'position': 3152, 'breuer': 586, 'plp': 3122, 'norman': 2839, 'docklands': 1246, 'jessica': 2252, 'henn': 1971, 'medical': 2594, 'quarantine': 3374, 'reopen': 3572, 'ii': 2085, 'estate': 1439, 'rfq': 3647, 'fund': 1739, 'technical': 4297, 'assistance': 342, 'unlikely': 4546, 'cityin': 798, 'exhibition': 1490, 'hush': 2064, 'revenge': 3624, 'shape': 3897, 'encourage': 1389, 'expand': 1495, 'definition': 1133, 'oma': 2901, 'lola': 2470, 'rotterdam': 3741, 'architonic': 301, 'system': 4257, 'lissoni': 2444, 'ash': 332, 'amppartners': 188, 'ripatti': 3693, 'webster': 4735, 'cn': 828, 'core': 971, 'affair': 70, 'acoustic': 31, 'ampstyle': 191, 'europe': 1448, 'delivers': 1140, 'pickhotel': 3079, 'outdoor': 2943, 'wutopia': 4936, 'gold': 1821, 'comfortable': 867, 'appropriate': 281, 'ceiling': 712, 'bowl': 569, 'ampurban': 205, 'wilde': 4844, 'asia': 334, 'windfall': 4862, 'fora': 1667, 'manufacturer': 2538, 'architetti': 299, 'italia': 2221, 'inc': 2110, 'creator': 1022, 'dedicate': 1125, 'bang': 428, 'cate': 701, 'ampnelson': 187, 'neri': 2785, 'amphu': 174, 'jones': 2273, 'swivel': 4253, 'base': 439, 'programmatic': 3238, 'several': 3882, 'santiago': 3794, 'miller': 2640, 'curated': 1056, 'september': 3866, 'marco': 2544, 'effe': 1350, 'wellness': 4752, 'german': 1792, 'shelf': 3906, 'motel': 2707, 'rush': 3763, 'et': 1442, 'fold': 1654, 'wesco': 4767, 'vanceva': 4593, 'sicis': 3939, 'fear': 1568, 'nl': 2815, 'fundamentally': 1741, 'sascha': 3795, 'ea': 1318, 'vitra': 4647, 'amphygiene': 175, 'superior': 4225, 'speaker': 4067, 'productora': 3226, 'revives': 3639, 'element': 1362, 'mastaba': 2562, 'recreate': 3505, 'augmented': 367, 'suite': 4211, 'ternion': 4311, 'reinterrogate': 3539, 'privacy': 3210, 'communityin': 877, 'kuwait': 2339, 'reveals': 3623, 'tarumanagara': 4280, 'registration': 3528, 'ricefield': 3659, 'harvard': 1934, 'mit': 2662, 'deport': 1156, 'wong': 4893, 'wheel': 4792, 'protasevich': 3276, 'vertical': 4604, 'exclusive': 1484, 'keynote': 2306, 'waf': 4680, 'pleased': 3119, 'lowry': 2491, 'manchester': 2533, 'tate': 4283, 'wac': 4678, 'activity': 37, 'lush': 2501, 'local': 2460, 'marc': 2542, 'koehler': 2331, 'greengrey': 1861, 'dialect': 1185, 'eva': 1450, 'strategic': 4157, 'wacas': 4679, 'limitless': 2435, 'saxe': 3802, 'costa': 980, 'jungle': 2284, 'alex': 120, 'profiled': 3232, 'source': 4054, 'sergey': 3869, 'makhno': 2524, 'safe': 3779, 'homein': 2016, 'ukraine': 4518, 'antireality': 250, 'futuristic': 1748, 'infinity': 2139, 'cta': 1047, 'nordic': 2836, 'alpine': 136, 'scapearchitecture': 3809, 'towards': 4430, 'paros': 2989, 'common': 875, 'creates': 1017, 'vestre': 4606, 'norwegian': 2842, 'gyumri': 1897, 'friendship': 1718, 'armenia': 313, 'leap': 2386, 'mediate': 2593, 'spun': 4097, 'carl': 689, 'gerges': 1791, 'arid': 310, 'poured': 3162, 'rehabilitation': 3535, 'gain': 1751, 'continuous': 948, 'carry': 692, 'grimshaw': 1866, 'zero': 4994, 'buildingssays': 625, 'chairman': 728, 'andrew': 229, 'whalley': 4783, 'flagship': 1623, 'beam': 455, 'column': 860, 'riba': 3655, 'addition': 48, 'podcast': 3130, 'geodesic': 1785, 'guarantee': 1883, 'measure': 2589, 'yoga': 4972, 'zoho': 4995, 'metu': 2615, 'itu': 2228, 'goldsmith': 1824, 'shanghai': 3896, 'aluminum': 145, 'percolate': 3038, 'israel': 2216, 'completes': 894, 'marrakech': 2551, 'cycle': 1069, 'sitong': 3967, 'jin': 2256, 'va': 4585, 'lila': 2433, 'pointed': 3134, 'rica': 3656, 'tribute': 4462, 'rural': 3762, 'illustrated': 2090, 'gherkin': 1796, 'climbablemonumental': 817, 'stream': 4159, 'iran': 2205, 'waawards': 4677, 'feyenoord': 1589, 'cincinnati': 790, 'ohio': 2890, 'global': 1813, 'trigger': 4464, 'emotion': 1378, 'lu': 2494, 'remix': 3561, 'announced': 239, 'crucial': 1039, 'behaviour': 469, 'tainan': 4265, 'bord': 551, 'hamacho': 1915, 'neigborhoud': 2779, 'rlda': 3713, 'incheon': 2112, 'atlas': 353, 'pax': 3009, 'jet': 2253, 'anchorage': 227, 'arrival': 320, 'rwy': 3769, 'pacific': 2965, 'avgeek': 381, 'landing': 2350, 'depart': 1150, 'flight': 1630, 'mtdenali': 2724, 'alaska': 118, 'delta': 1142, 'inbound': 2109, 'aviation': 383, 'belt': 479, 'golf': 1825, 'operation': 2923, 'courtesy': 994, 'joint': 2267, 'elmendorf': 1367, 'aug': 366, 'antonov': 252, 'nairobi': 2753, 'camber': 659, 'mainly': 2517, 'operate': 2922, 'anc': 226, 'fro': 1721, 'military': 2634, 'apart': 262, 'cloudy': 825, 'denali': 1145, 'pullout': 3324, 'taxi': 4287, 'february': 1570, 'rocket': 3729, 'ampthen': 195, 'prime': 3201, 'er': 1427, 'departing': 1151, 'normally': 2838, 'ups': 4564, 'atc': 348, 'airline': 106, 'lax': 2373, 'woronzof': 4916, 'sheep': 3903, 'sunset': 4221, 'timelapse': 4385, 'fairbanks': 1531, 'yukon': 4988, 'dalton': 1077, 'highway': 1986, 'cargo': 686, 'cathay': 705, 'caribou': 688, 'grizzly': 1867, 'nearby': 2771, 'welcome': 4748, 'moose': 2696, 'random': 3466, 'visitor': 4636, 'niel': 2807, 'visible': 4631, 'arti': 325, 'transit': 4453, 'horseshoe': 2034, 'boat': 532, 'heavy': 1960, 'ramp': 3464, 'aviationphotography': 385, 'kenai': 2299, 'evert': 1457, 'maximum': 2575, 'investigate': 2192, 'fedex': 1573, 'planespotting': 3104, 'arrest': 319, 'army': 314, 'soldier': 4021, 'vanessa': 4594, 'hkg': 1998, 'participate': 2992, 'fr': 1690, 'kalitta': 2291, 'departure': 1153, 'whilethey': 4807, 'nonstop': 2828, 'aircraft': 103, 'aerial': 68, 'lens': 2404, 'trail': 4445, 'hike': 1987, 'mandatory': 2534, 'pt': 3302, 'wife': 4839, 'deck': 1120, 'skating': 3972, 'lightly': 2429, 'pit': 3093, 'static': 4119, 'craft': 1009, 'onto': 2917, 'boeing': 534, 'qffriday': 3356, 'qantas': 3354, 'father': 1555, 'guam': 1881, 'retire': 3614, 'survive': 4242, 'captain': 677, 'fo': 1648, 'pilot': 3085, 'flyi': 1642, 'airshow': 110, 'arctic': 304, 'polar': 3136, 'dodgy': 1253, 'express': 1512, 'roadsaddest': 3721, 'leipzig': 2401, 'covid': 1000, 'runway': 3761, 'safety': 3780, 'louisville': 2484, 'sdf': 3833, 'rare': 3472, 'cargolux': 687, 'wildbus': 4843, 'peoplei': 3034, 'ne': 2769, 'retirement': 3615, 'althoughthe': 144, 'covidthe': 1001, 'willow': 4855, 'freighter': 1707, 'gem': 1774, 'yeshe': 4962, 'yearsbut': 4954, 'controller': 954, 'wisconsin': 4874, 'thunderstorm': 4369, 'airspace': 111, 'beast': 457, 'roughly': 3742, 'sequence': 3868, 'successful': 4198, 'youfor': 4978, 'upper': 4563, 'fog': 1651, 'earn': 1322, 'gotcha': 1841, 'shortcut': 3924, 'minneapolis': 2649, 'daughter': 1094, 'scenery': 3814, 'layover': 2376, 'congratulation': 922, 'dusk': 1312, 'thankfully': 4330, 'pla': 3098, 'fmc': 1646, 'database': 1092, 'deliver': 1139, 'supply': 4230, 'pound': 3160, 'cpdlc': 1006, 'relief': 3555, 'officer': 2879, 'request': 3587, 'specific': 4071, 'fuel': 1733, 'peninsula': 3026, 'verification': 4601, 'quieterhas': 3402, 'electronic': 1361, 'stunt': 4184, 'gender': 1775, 'colin': 845, 'hom': 2012, 'owe': 2962, 'success': 4197, 'qualification': 3367, 'exposure': 1511, 'cha': 725, 'speed': 4075, 'quarantinewe': 3376, 'elevator': 1366, 'procedure': 3219, 'spray': 4093, 'attorney': 361, 'writing': 4931, 'occur': 2870, 'airplane': 108, 'singapore': 3959, 'questionsingle': 3394, 'ifr': 2080, 'bunk': 631, 'cod': 837, 'programming': 3240, 'cockpit': 835, 'consensus': 929, 'divide': 1237, 'fortunate': 1679, 'skill': 3975, 'transfer': 4449, 'willett': 4848, 'instrument': 2166, 'cloud': 824, 'gps': 1844, 'cherokee': 754, 'compare': 881, 'cr': 1007, 'rink': 3688, 'quart': 3378, 'filter': 1600, 'leak': 2384, 'usual': 4579, 'oil': 2892, 'suction': 4201, 'cherokeesix': 755, 'puzzle': 3346, 'similar': 3952, 'conundrum': 955, 'knot': 2326, 'seaplane': 3836, 'naughty': 2765, 'demonstrate': 1144, 'toward': 4429, 'tackle': 4262, 'conveyor': 960, 'wheelsthe': 4794, 'thrust': 4368, 'geeznot': 1773, 'yesthe': 4965, 'takeoff': 4269, 'profit': 3234, 'ft': 1727, 'flying': 1643, 'choice': 776, 'cow': 1002, 'vortex': 4667, 'opinion': 2924, 'plenty': 3121, 'restroom': 3611, 'basis': 444, 'flew': 1628, 'kudos': 2336, 'lee': 2393, 'port': 3148, 'instruction': 2165, 'inspiring': 2158, 'ridesbeautiful': 3672, 'navigator': 2766, 'command': 868, 'hokey': 2003, 'radarthis': 3449, 'skim': 3976, 'al': 114, 'tanksi': 4279, 'towel': 4431, 'countdown': 985, 'timer': 4386, 'tank': 4278, 'average': 380, 'election': 1360, 'yesa': 4961, 'otherwise': 2940, 'whilemust': 4805, 'tragic': 4444, 'voluntary': 4663, 'assist': 341, 'ba': 407, 'quieter': 3401, 'rudder': 3752, 'airliner': 107, 'spool': 4090, 'raf': 3454, 'correct': 975, 'isas': 2210, 'exit': 1494, 'whilst': 4808, 'fancy': 1543, 'actual': 40, 'purveyor': 3338, 'wonderful': 4890, 'wash': 4708, 'pin': 3087, 'airflow': 105, 'truethe': 4475, 'october': 2872, 'automatically': 374, 'duty': 1315, 'wecops': 4736, 'policy': 3139, 'recognise': 3500, 'value': 4591, 'match': 2566, 'corporate': 974, 'ampindividual': 179, 'fitness': 1619, 'circadian': 792, 'fatigue': 1558, 'lo': 2456, 'rhythm': 3651, 'chart': 745, 'airbus': 102, 'thread': 4359, 'perhaps': 3043, 'sa': 3771, 'disagree': 1213, 'mu': 2725, 'sfo': 3888, 'distance': 1229, 'george': 1789, 'strictly': 4166, 'airfield': 104, 'untrue': 4551, 'devil': 1180, 'ra': 3436, 'woudl': 4921, 'credit': 1025, 'colleague': 848, 'notwhy': 2847, 'ridiculous': 3674, 'rnav': 3718, 'essential': 1437, 'parallel': 2981, 'heathrow': 1959, 'honestly': 2019, 'ahhh': 96, 'rmy': 3716, 'diagram': 1184, 'visuali': 4641, 'ability': 3, 'segment': 3851, 'soia': 4020, 'thin': 4345, 'othe': 2937, 'fee': 1574, 'raspberry': 3474, 'jolly': 2269, 'cumbria': 1053, 'insurance': 2167, 'whatbuying': 4785, 'factor': 1526, 'asap': 331, 'wearer': 4730, 'supermarket': 4226, 'advice': 64, 'ampwill': 211, 'restriction': 3610, 'ease': 1326, 'mike': 2632, 'glider': 1811, 'belgium': 474, 'hotfuzz': 2039, 'erm': 1431, 'dave': 1095, 'pug': 3318, 'whoever': 4821, 'whatgetting': 4788, 'infect': 2137, 'boris': 556, 'woodpecker': 4898, 'sedbergh': 3847, 'incompetent': 2120, 'peanut': 3020, 'lift': 2425, 'motor': 2713, 'mezzanine': 2619, 'motorhome': 2714, 'sep': 3864, 'possibly': 3155, 'exception': 1478, 'pad': 2967, 'swim': 4249, 'pe': 3016, 'rally': 3462, 'quarantin': 3373, 'comparison': 882, 'indust': 2134, 'chuckle': 784, 'lockdown': 2464, 'glide': 1810, 'gu': 1880, 'temperature': 4305, 'january': 2240, 'superb': 4224, 'period': 3044, 'retweet': 3620, 'radi': 3451, 'helicopter': 1964, 'russia': 3765, 'wether': 4774, 'nhs': 2803, 'pub': 3303, 'household': 2042, 'emergency': 1376, 'quebec': 3382, 'insurer': 2168, 'diy': 1240, 'deer': 1128, 'wildlife': 4847, 'payment': 3012, 'memory': 2605, 'geek': 1771, 'riat': 3654, 'brief': 592, 'qots': 3361, 'johannesburg': 2263, 'queen': 3383, 'sunbathe': 4216, 'positive': 3153, 'interested': 2177, 'duke': 1308, 'stun': 4182, 'newquay': 2794, 'fabulous': 1521, 'spectacular': 4072, 'isle': 2213, 'retro': 3618, 'aviationlovers': 384, 'nr': 2856, 'lhr': 2415, 'cafe': 649, 'avgeeks': 382, 'amphis': 173, 'cur': 1055, 'stunning': 4183, 'husky': 2065, 'tailwind': 4264, 'wellwhen': 4760, 'quid': 3399, 'supersonic': 4227, 'finn': 1613, 'acknkowledgement': 29, 'relatedbut': 3545, 'indeed': 2125, 'vp': 4674, 'propaltho': 3262, 'hardly': 1929, 'sing': 3958, 'wellmy': 4751, 'flow': 1637, 'carefully': 685, 'questiondo': 3391, 'rafale': 3455, 'questionm': 3393, 'cub': 1048, 'henry': 1973, 'rv': 3768, 'sunny': 4219, 'decline': 1121, 'wellyou': 4762, 'bbc': 451, 'ampbe': 162, 'entertainment': 1411, 'bull': 627, 'whateve': 4786, 'potus': 3159, 'agreement': 91, 'beer': 464, 'stamp': 4107, 'enstone': 1407, 'complain': 890, 'expat': 1496, 'kept': 2303, 'virus': 4630, 'rnzaf': 3719, 'rightshad': 3679, 'scale': 3806, 'depict': 1154, 'reporter': 3579, 'aurigny': 369, 'whichi': 4803, 'wherever': 4798, 'reside': 3594, 'candle': 668, 'inflation': 2140, 'courseand': 992, 'conspiracy': 936, 'warchild': 4701, 'brit': 596, 'assume': 345, 'expect': 1497, 'easyjet': 1332, 'campaign': 662, 'iris': 2207, 'everyonei': 1464, 'ohhh': 2888, 'recruitment': 3506, 'newly': 2793, 'qualifie': 3368, 'abu': 10, 'minister': 2648, 'parliamentary': 2987, 'westminster': 4771, 'roadshows': 3722, 'whenever': 4797, 'destroy': 1170, 'rat': 3475, 'editor': 1347, 'pilotlife': 3086, 'consist': 933, 'flyingi': 1644, 'merry': 2611, 'festive': 1587, 'besties': 489, 'li': 2416, 'updated': 4558, 'simulator': 3956, 'document': 1250, 'fantastic': 1544, 'resist': 3601, 'linkedin': 2439, 'headset': 1947, 'clever': 811, 'workforce': 4903, 'salute': 3786, 'monty': 2691, 'comfort': 866, 'holly': 2009, 'selfie': 3854, 'manager': 2532, 'wowgreat': 4924, 'adorable': 57, 'respect': 3604, 'damp': 1080, 'unusual': 4552, 'pvgthank': 3347, 'turbulence': 4491, 'privilege': 3214, 'dust': 1313, 'dslr': 1304, 'contrail': 951, 'poem': 3131, 'dayi': 1099, 'equipment': 1424, 'vibe': 4611, 'contribution': 952, 'nh': 2802, 'valuable': 4590, 'nora': 2835, 'achievement': 28, 'throwback': 4366, 'solo': 4023, 'uncertain': 4524, 'bid': 496, 'purple': 3336, 'dash': 1090, 'compete': 885, 'wrap': 4925, 'precious': 3175, 'tbt': 4289, 'relatively': 3550, 'impressive': 2106, 'reverse': 3627, 'rejected': 3542, 'jersey': 2251, 'champion': 732, 'science': 3819, 'tilt': 4379, 'bom': 537, 'extend': 1513, 'forced': 1670, 'gateway': 1768, 'appreciation': 278, 'destination': 1169, 'cocktail': 836, 'wight': 4840, 'sunrise': 4220, 'superstar': 4229, 'tor': 4420, 'riverbank': 3708, 'atlantic': 352, 'nassau': 2758, 'beaten': 459, 'bu': 616, 'addr': 51, 'photoshoot': 3068, 'involve': 2202, 'texan': 4322, 'haunt': 1939, 'motion': 2710, 'fellow': 1582, 'mr': 2721, 'utterly': 4584, 'utrecht': 4583, 'adventure': 63, 'timei': 4384, 'explanation': 1505, 'qnh': 3360, 'petition': 3053, 'adamreed': 44, 'rhiannarule': 3648, 'rhysifans': 3650, 'unseen': 4549, 'outtake': 2953, 'glitter': 1812, 'bomb': 538, 'delight': 1138, 'portrait': 3150, 'onefromthearchive': 2906, 'prosecco': 3272, 'tgif': 4326, 'sustain': 4243, 'charlottewiller': 743, 'claudiaengelmann': 805, 'johnson': 2265, 'shine': 3912, 'williamson': 4853, 'styling': 4187, 'prideforall': 3199, 'charity': 741, 'donate': 1264, 'fundraiser': 1743, 'mentor': 2608, 'jonathanconnelly': 2272, 'intelligence': 2170, 'honour': 2022, 'bowls': 570, 'unable': 4522, 'gallimore': 1755, 'quesada': 3387, 'unretouched': 4548, 'photographic': 3063, 'denim': 1146, 'chin': 768, 'flashback': 1626, 'couture': 997, 'ultimate': 4519, 'gregory': 1863, 'rankin': 3469, 'splash': 4087, 'rankinphotochallenge': 3470, 'groom': 1870, 'hunger': 2058, 'session': 3878, 'react': 3480, 'ampwe': 210, 'quaranzine': 3377, 'staysafe': 4123, 'photooftheday': 3067, 'ashotaday': 333, 'aphotoaday': 265, 'hungertv': 2059, 'makeup': 2523, 'nofilter': 2819, 'bounce': 563, 'riia': 3682, 'proudly': 3288, 'listenup': 2447, 'economy': 1341, 'billion': 503, 'protecttheoceans': 3282, 'rivergallo': 3710, 'sparkle': 4062, 'moss': 2705, 'publish': 3312, 'ampteamtake': 192, 'raise': 3460, 'whose': 4830, 'personal': 3048, 'sum': 4212, 'neil': 2781, 'personally': 3049, 'qualify': 3369, 'interfere': 2180, 'monica': 2682, 'olivier': 2899, 'jaguar': 2233, 'marcoxrankin': 2545, 'stephen': 4129, 'pycroft': 3350, 'rome': 3736, 'observe': 2867, 'upstate': 4566, 'masterclass': 2564, 'purchase': 3334, 'gilden': 1802, 'magnum': 2513, 'nov': 2848, 'revisit': 3633, 'coney': 909, 'yorkers': 4974, 'legend': 2398, 'leica': 2400, 'intensive': 2173, 'signedmuseum': 3947, 'collect': 849, 'theme': 4339, 'abo': 5, 'collectorslounge': 853, 'depth': 1159, 'visitorsjoin': 4637, 'signing': 3948, 'fridaymay': 1714, 'takeover': 4270, 'collector': 852, 'mardigras': 2546, 'chinatown': 771, 'drykorn': 1302, 'drykornforbeautifulpeople': 1303, 'magnumphotos': 2514, 'crowd': 1038, 'streettogs': 4162, 'streetphotography': 4161, 'brucegilden': 610, 'embody': 1373, 'est': 1438, 'revolutionary': 3641, 'windexhibition': 4861, 'guernsey': 1884, 'signed': 3946, 'photojournalist': 3066, 'compassionate': 884, 'nyc': 2860, 'windlimited': 4863, 'revisits': 3634, 'soul': 4050, 'mayfair': 2579, 'republican': 3585, 'daily': 1075, 'pleasure': 3120, 'detroitagainst': 1176, 'pvt': 3348, 'windahead': 4860, 'discount': 1218, 'november': 2849, 'projectsconey': 3250, 'strangeandfamiliar': 4155, 'superstage': 4228, 'ukphotoshow': 4517, 'birmingham': 507, 'lfi': 2413, 'martin': 2554, 'barbican': 433, 'jonathan': 2271, 'curiosity': 1058, 'candid': 667, 'misterthrow': 2659, 'bead': 454, 'ofâ': 2884, 'ig': 2081, 'grab': 1846, 'onelong': 2909, 'crewdson': 1028, 'crewdsonuntitled': 1030, 'printimage': 3207, 'yale': 4943, 'con': 898, 'tilda': 4376, 'swinton': 4251, 'ampnamacheko': 185, 'blackaf': 514, 'imagegregory': 2094, 'latoya': 2365, 'ruby': 3751, 'frazier': 1700, 'mfa': 2620, 'crewdsonthe': 1029, 'psychology': 3301, 'underlie': 4528, 'calendar': 652, 'meditation': 2596, 'nan': 2755, 'goldin': 1823, 'shore': 3922, 'enjoyed': 1404, 'qstilda': 3362, 'wolfgangtillmans': 4886, 'publicas': 3305, 'thoughtful': 4357, 'publicly': 3310, 'sketch': 3973, 'spikejonze': 4081, 'adam': 43, 'relation': 3546, 'gregorycrewdson': 1864, 'phrase': 3071, 'blanchett': 518, 'being': 472, 'lethem': 2410, 'yalephoto': 4944, 'noahbaumbach': 2817, 'thingthe': 4348, 'fallow': 1537, 'studentsinterview': 4177, 'gordon': 1837, 'kimgordon': 2314, 'cateblanchett': 702, 'latoyarubyfrazier': 2366, 'hopper': 2028, 'eggleston': 1356, 'williameggleston': 4851, 'ampgregory': 171, 'singer': 3960, 'tildaswinton': 4377, 'beneath': 481, 'prophetic': 3266, 'wdirector': 4722, 'onstage': 2916, 'explorer': 1507, 'trivia': 4467, 'ambassador': 151, 'ampfun': 166, 'ampimpact': 177, 'additionthe': 50, 'russell': 3764, 'zealand': 4992, 'queensboth': 3384, 'patti': 3005, 'content': 945, 'joe': 2261, 'consistently': 935, 'visua': 4639, 'phenomenal': 3055, 'uncomfortable': 4526, 'perspective': 3050, 'photog': 3060, 'relevant': 3553, 'thrill': 4362, 'forbes': 1668, 'creatorshour': 1023, 'sublime': 4190, 'olympic': 2900, 'pstjoin': 3299, 'muchit': 2727, 'nikon': 2813, 'creatorshourmy': 1024, 'saidthe': 3781, 'windowor': 4865, 'midst': 2630, 'miracle': 2652, 'supreme': 4234, 'transgender': 4452, 'civil': 800, 'ari': 309, 'battle': 448, 'observance': 2866, 'repository': 3580, 'vet': 4607, 'postpone': 3157, 'programthoughand': 3241, 'printhelp': 3206, 'statement': 4118, 'floyd': 1639, 'amount': 159, 'wedding': 4738, 'grover': 1875, 'amplearning': 181, 'programdid': 3237, 'wealth': 4725, 'ampu': 204, 'verify': 4602, 'amen': 153, 'rhino': 3649, 'adoramatv': 58, 'broadcastingand': 601, 'dancer': 1082, 'documentarywatching': 1252, 'pushi': 3340, 'ampterrific': 193, 'rsvp': 3748, 'genius': 1781, 'wearephotographers': 4729, 'stag': 4104, 'puck': 3314, 'shaken': 3892, 'ampstirred': 190, 'ripple': 3695, 'ampyieldingas': 214, 'overcome': 2957, 'friendfavorite': 1717, 'generous': 1780, 'fourth': 1688, 'importantly': 2103, 'fond': 1660, 'charming': 744, 'disarming': 1216, 'xx': 4940, 'stir': 4136, 'snapper': 4006, 'exhale': 1488, 'gala': 1752, 'mondayalthough': 2678, 'mus': 2736, 'protects': 3281, 'jasmine': 2244, 'mylittlegirl': 2746, 'reset': 3593, 'endanger': 1392, 'gray': 1857, 'pupsofficials': 3333, 'dancesmilelove': 1083, 'conjure': 924, 'simplest': 3954, 'remus': 3565, 'surgery': 4237, 'empire': 1380, 'protester': 3284, 'voomstunners': 4666, 'tatler': 4284, 'transformation': 4451, 'violence': 4624, 'awareness': 392, 'wearorange': 4731, 'teen': 4302, 'diameter': 1187, 'bryant': 614, 'quarantinethe': 3375, 'countless': 986, 'onjust': 2913, 'boysher': 573, 'iggy': 2082, 'igumenova': 2084, 'serieskeeping': 3872, 'lighten': 2427, 'dickens': 1190, 'freedom': 1704, 'sacrifice': 3772, 'crouch': 1037, 'tiger': 4373, 'dragon': 1283, 'competitiona': 887, 'healthcare': 1949, 'evidence': 1466, 'everydayxo': 1461, 'astor': 346, 'rader': 3450, 'stour': 4151, 'dorset': 1269, 'faith': 1533, 'generation': 1779, 'wh': 4777, 'parody': 2988, 'divine': 1239, 'glamour': 1807, 'stole': 4138, 'harm': 1931, 'stuffingof': 4181, 'og': 2885, 'welsh': 4763, 'youthe': 4983, 'sundayday': 4218, 'upthanks': 4567, 'fridaymy': 1715, 'sheet': 3904, 'silver': 3951, 'lining': 2437, 'peopleeveryday': 3033, 'worldwishday': 4915, 'sings': 3962, 'daymade': 1102, 'watchshare': 4712, 'pea': 3017, 'jazz': 2246, 'outstanding': 2952, 'gotts': 1842, 'actor': 38, 'visited': 4634, 'chum': 785, 'carlreiner': 690, 'passing': 2998, 'jamesbond': 2238, 'mamma': 2527, 'miado': 2621, 'sophie': 4043, 'christopherlee': 781, 'ampvillains': 207, 'happiest': 1923, 'anniversary': 237, 'spiner': 4083, 'connery': 927, 'vodka': 4653, 'portraitis': 3151, 'piercebrosnan': 3082, 'hail': 1906, 'starwarsday': 4116, 'glorious': 1815, 'organise': 2930, 'doctorwho': 1249, 'whittaker': 4817, 'jodiewhittaker': 2260, 'timcurrythe': 4382, 'mads': 2509, 'kitharington': 2322, 'loved': 2487, 'quirky': 3406, 'celebrity': 714, 'baddie': 415, 'hollywood': 2010, 'spending': 4079, 'terry': 4317, 'wikileaks': 4841, 'onei': 2907, 'pete': 3051, 'wholeheartedly': 4826, 'python': 3351, 'cheeky': 751, 'imp': 2099, 'prof': 3227, 'ianmckellen': 2069, 'richardarmitagei': 3662, 'whet': 4799, 'leader': 2380, 'ol': 2897, 'customer': 1065, 'query': 3386, 'amptim': 201, 'puppythis': 3332, 'madsmikkelsen': 2510, 'richardmadden': 3663, 'adore': 59, 'rocketman': 3730, 'photographyis': 3065, 'champagne': 731, 'marvellous': 2555, 'actorswi': 39, 'septuagenarian': 3867, 'comprise': 896, 'viviennewestwood': 4648, 'yearsi': 4955, 'war': 4700, 'ampfour': 165, 'tim': 4380, 'bombshell': 540, 'precede': 3174, 'sentence': 3862, 'kavanaugh': 2294, 'donald': 1263, 'trumpbut': 4478, 'pushtweeps': 3342, 'caller': 657, 'tyler': 4507, 'racistif': 3446, 'tie': 4372, 'secure': 3845, 'infection': 2138, 'voteforourlives': 4670, 'fox': 1689, 'qanon': 3353, 'putin': 3344, 'whatever': 4787, 'volition': 4661, 'bounty': 566, 'chief': 763, 'racist': 3445, 'supporter': 4232, 'maintain': 2518, 'ringlewisconsin': 3687, 'swing': 4250, 'voter': 4671, 'lobster': 2459, 'wearamasksavealife': 4728, 'context': 946, 'congress': 923, 'prosecutor': 3273, 'ventilator': 4600, 'bolton': 536, 'tiktok': 4374, 'publicationsthey': 3308, 'tulsa': 4488, 'wfake': 4776, 'amptricked': 203, 'accountright': 20, 'whoopspremature': 4828, 'barr': 436, 'decision': 1118, 'proper': 3263, 'timeyou': 4387, 'hearing': 1953, 'capital': 675, 'worldhe': 4913, 'threat': 4360, 'victim': 4613, 'jane': 2239, 'goodall': 1829, 'growth': 1877, 'stewart': 4132, 'brown': 607, 'ted': 4301, 'cheetah': 753, 'conservationist': 931, 'conference': 910, 'ampto': 202, 'asiatic': 335, 'scientist': 3820, 'pdt': 3014, 'creativelive': 1020, 'floral': 1636, 'monterey': 2687, 'feedback': 1576, 'cruzca': 1044, 'bonobo': 544, 'relativesbut': 3551, 'wildjoin': 4846, 'frans': 1699, 'lanting': 2354, 'amsterdamgetting': 217, 'rtl': 3750, 'twan': 4497, 'netherlandstonight': 2789, 'awardfriends': 391, 'elephant': 1364, 'cruz': 1043, 'sanctuary': 3790, 'congo': 920, 'concerned': 902, 'urge': 4571, 'cong': 919, 'souza': 4057, 'hawley': 1942, 'chimp': 767, 'senegal': 3858, 'ciao': 788, 'geographic': 1787, 'qua': 3364, 'projectlifea': 3247, 'pdti': 3015, 'critique': 1035, 'eckstrom': 1337, 'trophy': 4469, 'usa': 4573, 'africais': 77, 'nederland': 2775, 'animal': 235, 'cinemec': 791, 'macro': 2506, 'rehearse': 3537, 'fi': 1590, 'earthin': 1324, 'pmjoin': 3128, 'ustickets': 4578, 'belgiumvote': 475, 'galapagos': 1753, 'millennium': 2639, 'pritzger': 3209, 'av': 376, 'rehearsal': 3536, 'marin': 2547, 'alsop': 140, 'orangutan': 2928, 'borneo': 557, 'fotomuseum': 1684, 'npo': 2855, 'vogels': 4655, 'harrison': 1932, 'ford': 1671, 'lifea': 2422, 'netherlandsi': 2788, 'proposes': 3271, 'smithsonian': 4004, 'richness': 3666, 'financial': 1605, 'income': 2118, 'disagreement': 1214, 'determine': 1174, 'resilient': 3600, 'whohow': 4823, 'align': 124, 'objection': 2865, 'surprisingly': 4240, 'solve': 4025, 'correction': 976, 'constraint': 938, 'sentenc': 3861, 'happiness': 1924, 'investment': 2197, 'investor': 2198, 'wholereturns': 4827, 'decrease': 1124, 'buffett': 621, 'clearsimpleand': 810, 'honest': 2018, 'distil': 1231, 'righttoday': 3681, 'behavior': 468, 'devote': 1181, 'gap': 1763, 'projection': 3246, 'advisor': 67, 'trick': 4463, 'shar': 3898, 'prospective': 3275, 'whilethe': 4806, 'planner': 3106, 'gr': 1845, 'wealthmanagement': 4726, 'believeand': 477, 'privately': 3213, 'publiclyit': 3311, 'address': 52, 'subject': 4189, 'whitelook': 4815, 'median': 2592, 'college': 854, 'reliably': 3554, 'outperform': 2950, 'financialplanning': 1607, 'lucent': 2495, 'speculate': 4073, 'investingthe': 2195, 'index': 2127, 'bias': 495, 'brexit': 588, 'proverb': 3291, 'few': 1588, 'adviser': 65, 'researcher': 3590, 'strategy': 4158, 'regulatorthe': 3533, 'property': 3265, 'investorthe': 2200, 'severe': 3883, 'climatechange': 815, 'esg': 1434, 'rile': 3683, 'privateequity': 3212, 'accuse': 23, 'ethic': 1445, 'wirecard': 4873, 'sufficiently': 4205, 'misconception': 2654, 'indexing': 2128, 'investing': 2194, 'incompatibleand': 2119, 'thatto': 4337, 'analyst': 223, 'tebi': 4294, 'odds': 2873, 'favour': 1563, 'evidenceinvesting': 1467, 'downside': 1276, 'protectionbut': 3279, 'hedge': 1961, 'generate': 1778, 'publicity': 3309, 'sba': 3805, 'risky': 3704, 'pension': 3029, 'fiduciary': 1593, 'riskhigh': 3699, 'uncertainty': 4525, 'hallam': 1912, 'fca': 1567, 'volatilitybut': 4660, 'proportion': 3267, 'trader': 4439, 'vow': 4673, 'forecast': 1672, 'woodford': 4897, 'equity': 1425, 'regard': 3521, 'audit': 365, 'trading': 4440, 'hargreaveslansdown': 1930, 'anomaly': 245, 'reversal': 3626, 'estimate': 1441, 'profitable': 3235, 'whipsaw': 4812, 'downturn': 1278, 'richif': 3665, 'financialadvice': 1606, 'profession': 3228, 'questionablewill': 3390, 'england': 1401, 'examine': 1473, 'consumer': 941, 'regional': 3525, 'mistake': 2658, 'wrestle': 4926, 'wi': 4835, 'trustthe': 4480, 'illiquid': 2088, 'somethe': 4029, 'accumulate': 21, 'etf': 1444, 'mortgage': 2702, 'wider': 4837, 'onl': 2914, 'volatile': 4658, 'pronounce': 3261, 'ifa': 2078, 'fed': 1571, 'promoting': 3260, 'openit': 2921, 'introduce': 2190, 'recognition': 3501, 'fasawebinar': 1549, 'provision': 3294, 'analysis': 222, 'drawdown': 1288, 'intermediary': 2183, 'inclusivediverse': 2117, 'expectation': 1498, 'advisers': 66, 'imperative': 2101, 'amid': 157, 'inclusion': 2115, 'policiesschemes': 3138, 'enable': 1388, 'db': 1104, 'fscs': 1726, 'platformswill': 3113, 'scheme': 3816, 'cpd': 1005, 'stevens': 4131, 'cowan': 1003, 'broking': 605, 'evolve': 1469, 'inclusive': 2116, 'category': 703, 'progress': 3242, 'ifas': 2079, 'rank': 3468, 'quilter': 3404, 'revive': 3638, 'allowance': 130, 'adrian': 60, 'legacy': 2396, 'riskdo': 3698, 'questionswe': 3395, 'ftadviser': 1728, 'lisa': 2442, 'regulatory': 3534, 'protection': 3278, 'multiasset': 2730, 'broker': 603, 'prestridge': 3190, 'adeola': 53, 'ajayi': 112, 'weakness': 4724, 'risklower': 3701, 'ken': 2298, 'sothis': 4049, 'aheadi': 94, 'renta': 3571, 'preview': 3193, 'underwaterout': 4533, 'tuesdayabout': 4485, 'digestible': 1202, 'subpoena': 4193, 'financialtax': 1608, 'walkspoiled': 4688, 'author': 373, 'killing': 2311, 'retractionciting': 3616, 'misusein': 2661, 'eti': 1446, 'moderate': 2668, 'conversationswhich': 958, 'apartmentsbut': 264, 'upcharlie': 4555, 'wsj': 4933, 'scoopthe': 3822, 'fbi': 1566, 'exile': 1491, 'businessman': 636, 'guo': 1893, 'wengui': 4766, 'sexy': 3886, 'franchise': 1694, 'millennials': 2638, 'goodbravo': 1830, 'elon': 1368, 'musk': 2741, 'poke': 3135, 'seller': 3856, 'tesla': 4318, 'critic': 1033, 'https': 2049, 'arson': 323, 'byrnein': 645, 'erewhon': 1429, 'subtweet': 4196, 'yesif': 4963, 'mearly': 2588, 'resilience': 3599, 'bankwhich': 430, 'shrugssometimes': 3935, 'outhey': 2946, 'oilmohammed': 2893, 'salman': 3785, 'ruthless': 3767, 'quest': 3388, 'poweris': 3166, 'scoop': 3821, 'luckincoffee': 2497, 'investigation': 2193, 'conclude': 904, 'dollartermsnot': 1260, 'barrelscubic': 437, 'ftterms': 1729, 'tamar': 4277, 'frankel': 1697, 'quintessential': 3405, 'immigrantborn': 2097, 'palestine': 2975, 'frederick': 1702, 'ov': 2955, 'wsjmembers': 4934, 'fridayjuly': 1713, 'themit': 4340, 'nfl': 2800, 'rename': 3566, 'lifewashington': 2424, 'virginia': 4627, 'livin': 2452, 'eventually': 1455, 'mapdescribe': 2541, 'historical': 1995, 'testedtracedisolated': 4320, 'availablebut': 378, 'abraham': 7, 'wald': 4685, 'youfill': 4977, 'mutually': 2743, 'exclusiveof': 1485, 'printer': 3205, 'okoki': 2896, 'orificer': 2933, 'gentleman': 1782, 'qa': 3352, 'akane': 113, 'hale': 1909, 'smith': 4003, 'additional': 49, 'thatpresumably': 4335, 'logo': 2468, 'troublewhat': 4472, 'protestnow': 3285, 'molasses': 2672, 'tradingbut': 4441, 'brokerage': 604, 'gamblebut': 1758, 'tester': 4321, 'breakingjeffrey': 580, 'epstein': 1421, 'confidantebritish': 911, 'socialite': 4012, 'heiress': 1963, 'ghislaine': 1797, 'maxwellhas': 2576, 'managementwho': 2531, 'bernie': 486, 'ebbersaubrey': 1335, 'mcclendonthe': 2582, 'gamefunded': 1761, 'foist': 1652, 'decadestrains': 1115, 'etrade': 1447, 'ameritrade': 156, 'readingin': 3485, 'fidelity': 1592, 'decadestelling': 1114, 'fortune': 1680, 'gamblebecause': 1757, 'funbut': 1737, 'replicate': 3576, 'wondercumulativelyhow': 4889, 'paulson': 3007, 'weirder': 4747, 'jellyfish': 2249, 'libertyby': 2417, 'generalby': 1777, 'questioni': 3392, 'defiant': 1130, 'drsamuel': 1299, 'dictionary': 1191, 'bogle': 535, 'issueplease': 2218, 'fibonacci': 1591, 'michaelsthe': 2624, 'stori': 4145, 'woahit': 4885, 'hailing': 1907, 'weekfrogs': 4742, 'niki': 2812, 'harvest': 1935, 'leaf': 2382, 'coverthat': 999, 'detach': 1171, 'lit': 2448, 'sonsnow': 4035, 'youbartleby': 4975, 'wayif': 4719, 'capitalize': 676, 'beginning': 466, 'laterthanks': 2363, 'immortalobserving': 2098, 'madness': 2508, 'prettybut': 3192, 'sworn': 4254, 'enemy': 1394, 'cruciferous': 1040, 'baldwin': 422, 'mythnot': 2748, 'mookie': 2694, 'mock': 2666, 'viciously': 4612, 'doctorswho': 1248, 'vigorously': 4619, 'guysunless': 1895, 'robustly': 3727, 'aggressivelyi': 86, 'kale': 2290, 'mercilesslyleaving': 2610, 'slug': 3998, 'faintly': 1529, 'iridescent': 2206, 'trailmy': 4446, 'guesscabbage': 1886, 'larvaedo': 2358, 'backjackdo': 412, 'kongtaiwanand': 2333, 'jeopardize': 2250, 'folkstoday': 1656, 'businessa': 635, 'deputy': 1160, 'differentthoughfrom': 1199, 'alight': 123, 'trowe': 4473, 'pricecombinedthey': 3197, 'aggregate': 85, 'reasonperhaps': 3494, 'coincidence': 840, 'bombedinvestors': 539, 'poignant': 3132, 'endamazing': 1391, 'xbecause': 4937, 'againjoin': 81, 'latestwho': 2364, 'chickensmall': 762, 'steadfast': 4124, 'showsjust': 3934, 'restrain': 3609, 'dividend': 1238, 'buyback': 642, 'kplans': 2335, 'plansthe': 3108, 'exampleprivate': 1475, 'equityan': 1426, 'investme': 2196, 'tomahawk': 4405, 'techgetting': 4296, 'kindler': 2317, 'gentler': 1783, 'blackstone': 515, 'ivy': 2231, 'fallit': 1536, 'playbook': 3115, 'enforcement': 1396, 'countrykhn': 988, 'committee': 874, 'mckuen': 2583, 'icymia': 2074, 'columnist': 861, 'pairing': 2974, 'directive': 1209, 'tsp': 4483, 'holding': 2005, 'tweetstoo': 4501, 'overconcentrated': 2958, 'alreadythis': 138, 'storytelling': 4149, 'worldcosts': 4912, 'unknown': 4544, 'quantity': 3372, 'chinasoondonors': 770, 'brutality': 613, 'hammock': 1916, 'shoulda': 3927, 'phaseput': 3054, 'nebraskagovpete': 2773, 'rickettsa': 3667, 'republicanhas': 3586, 'withhold': 4880, 'arendt': 307, 'theredad': 4342, 'andin': 228, 'casessalvation': 695, 'fathersday': 1556, 'interchange': 2175, 'cashless': 698, 'storeare': 4144, 'robin': 3725, 'hoodthat': 2024, 'sec': 3840, 'jay': 2245, 'clayton': 806, 'insert': 2150, 'investorstake': 2199, 'abolish': 6, 'existence': 1493, 'economist': 1340, 'critically': 1034, 'backsome': 413, 'vindication': 4622, 'downvoluntarily': 1279, 'prominent': 3256, 'geoffrey': 1786, 'othersthe': 2939, 'yearsthough': 4957, 'textbookclassic': 4325, 'storygreat': 4148, 'ideaso': 2077, 'executedhats': 1486, 'offtippedetc': 2882, 'penny': 3028, 'overstate': 2961, 'regularly': 3532, 'analyze': 224, 'willi': 4849, 'baruch': 438, 'kfquotefortheday': 2307, 'answersee': 249, 'interestedthanks': 2178, 'chain': 726, 'wantbutyestha': 4695, 'followersmy': 1659, 'artifact': 327, 'quizlots': 3410, 'speaking': 4068, 'fathom': 1557, 'provoke': 3295, 'wellprobably': 4754, 'ism': 2214, 'wellyesbut': 4761, 'riskstake': 3703, 'springboard': 4096, 'comedy': 865, 'ampginger': 168, 'veryvery': 4605, 'wellon': 4753, 'vo': 4652, 'chauncey': 748, 'cap': 672, 'riskhis': 3700, 'confirmation': 915, 'rightdo': 3676, 'removable': 3563, 'spaulding': 4065, 'quizthe': 3411, 'risknot': 3702, 'relationshipthanks': 3548, 'wheelhousesorry': 4793, 'ritholtz': 3706, 'questionwhich': 3396, 'ampthought': 199, 'volatility': 4659, 'arrogant': 322, 'wheelth': 4795, 'rightthanks': 3680, 'pulley': 3323}\n",
      "  (0, 4922)\t0.25124621529416996\n",
      "  (0, 4466)\t0.30965666062375885\n",
      "  (0, 4349)\t0.22214577286676612\n",
      "  (0, 3756)\t0.3800829486855362\n",
      "  (0, 2886)\t0.2637307237935968\n",
      "  (0, 2824)\t0.4125385810299565\n",
      "  (0, 1794)\t0.18811166813764987\n",
      "  (0, 1074)\t0.39906827654421484\n",
      "  (0, 843)\t0.3237086319663703\n",
      "  (0, 700)\t0.32864198848243736\n",
      "  (1, 4693)\t0.7090923956642317\n",
      "  (1, 2475)\t0.7051155752152699\n",
      "  (2, 3006)\t0.36355627236825316\n",
      "  (2, 2454)\t0.37891777853832714\n",
      "  (2, 2304)\t0.4022393192696269\n",
      "  (2, 2266)\t0.27760092590499086\n",
      "  (2, 696)\t0.4022393192696269\n",
      "  (2, 197)\t0.4022393192696269\n",
      "  (2, 141)\t0.4022393192696269\n",
      "  (3, 4928)\t0.23106116307535168\n",
      "  (3, 4616)\t0.21736498646044744\n",
      "  (3, 3857)\t0.24509467366667287\n",
      "  (3, 3823)\t0.623405334689473\n",
      "  (3, 3749)\t0.1186195935951847\n",
      "  (3, 3486)\t0.25690196438248014\n",
      "  :\t:\n",
      "  (1475, 1646)\t0.33937747694939335\n",
      "  (1475, 1092)\t0.3304919177271833\n",
      "  (1475, 476)\t0.2421234039719312\n",
      "  (1476, 4885)\t0.37510952770408773\n",
      "  (1476, 4742)\t0.37510952770408773\n",
      "  (1476, 4716)\t0.24437432185324418\n",
      "  (1476, 4307)\t0.33941850546575586\n",
      "  (1476, 3100)\t0.3652884342326228\n",
      "  (1476, 2860)\t0.33941850546575586\n",
      "  (1476, 2799)\t0.251064926946981\n",
      "  (1476, 1907)\t0.37510952770408773\n",
      "  (1476, 131)\t0.3021268542572585\n",
      "  (1477, 4031)\t0.5618414489239373\n",
      "  (1477, 3997)\t0.5618414489239373\n",
      "  (1477, 3)\t0.6071806753694501\n",
      "  (1478, 4690)\t0.5968484439781471\n",
      "  (1478, 2749)\t0.5168801049975722\n",
      "  (1478, 2645)\t0.6136830549873147\n",
      "  (1479, 3749)\t0.1734111714766575\n",
      "  (1479, 3578)\t0.39721739807042833\n",
      "  (1479, 2651)\t0.3802483276258918\n",
      "  (1479, 2360)\t0.3012189572456901\n",
      "  (1479, 1889)\t0.40811668873961754\n",
      "  (1479, 1728)\t0.4659161926015559\n",
      "  (1479, 1322)\t0.4395317090434587\n"
     ]
    }
   ],
   "source": [
    "Tfidf_vect = TfidfVectorizer(max_features=5000)\n",
    "Tfidf_vect.fit(result['text_final'])\n",
    "Train_X_Tfidf = Tfidf_vect.transform(Train_X)\n",
    "Test_X_Tfidf = Tfidf_vect.transform(Test_X)\n",
    "print(Tfidf_vect.vocabulary_)\n",
    "print(Test_X_Tfidf)"
   ]
  },
  {
   "cell_type": "code",
   "execution_count": 13,
   "metadata": {},
   "outputs": [
    {
     "name": "stdout",
     "output_type": "stream",
     "text": [
      "Naive Bayes Accuracy Score ->  74.72972972972973\n"
     ]
    }
   ],
   "source": [
    "# fit the training dataset on the NB classifier\n",
    "Naive = naive_bayes.MultinomialNB()\n",
    "Naive.fit(Train_X_Tfidf,Train_Y)# predict the labels on validation dataset\n",
    "predictions_NB = Naive.predict(Test_X_Tfidf)# Use accuracy_score function to get the accuracy\n",
    "print(\"Naive Bayes Accuracy Score -> \",accuracy_score(predictions_NB, Test_Y)*100)"
   ]
  },
  {
   "cell_type": "code",
   "execution_count": 14,
   "metadata": {},
   "outputs": [
    {
     "name": "stdout",
     "output_type": "stream",
     "text": [
      "1480\n",
      "SVM Accuracy Score ->  71.89189189189189\n"
     ]
    }
   ],
   "source": [
    "# Classifier - Algorithm - SVM\n",
    "# fit the training dataset on the classifier\n",
    "SVM = svm.SVC(C=1.0, kernel='linear', degree=3, gamma='auto')\n",
    "SVM.fit(Train_X_Tfidf,Train_Y)# predict the labels on validation dataset\n",
    "predictions_SVM = SVM.predict(Test_X_Tfidf)# Use accuracy_score function to get the accuracy\n",
    "print(len(predictions_SVM))\n",
    "print(\"SVM Accuracy Score -> \",accuracy_score(predictions_SVM, Test_Y)*100)"
   ]
  },
  {
   "cell_type": "code",
   "execution_count": 15,
   "metadata": {},
   "outputs": [],
   "source": [
    "\n",
    "def getCareerByText(test):\n",
    "    # Step - b : Change all the text to lower case. This is required as python interprets 'dog' and 'DOG' differently\n",
    "    test = test.lower()# Step - c : Tokenization : In this each entry in the corpus will be broken into set of words\n",
    "    test = word_tokenize(test)# Step - d : Remove Stop words, Non-Numeric and perfom Word Stemming/Lemmenting.# WordNetLemmatizer requires Pos tags to understand if the word is noun or verb or adjective etc. By default it is set to Noun\n",
    "    tag_map = defaultdict(lambda : wn.NOUN)\n",
    "    tag_map['J'] = wn.ADJ\n",
    "    tag_map['V'] = wn.VERB\n",
    "    tag_map['R'] = wn.ADV\n",
    "    words = []\n",
    "    word_Lemmatized = WordNetLemmatizer()\n",
    "    for word, tag in pos_tag(test):\n",
    "        if word not in stopwords.words('english') and word.isalpha():\n",
    "            word_Final = word_Lemmatized.lemmatize(word,tag_map[tag[0]])\n",
    "            words.append(word_Final)\n",
    "#     words\n",
    "\n",
    "    words_fit=Tfidf_vect.transform(words)\n",
    "#         print(words_fit)\n",
    "    answer=SVM.predict(words_fit)\n",
    "    print(answer)\n",
    "    n=mode(answer)\n",
    "    if n==1:\n",
    "        return \"random\"\n",
    "    elif n==2:\n",
    "        return \"pilot\"\n",
    "    elif n==3:\n",
    "        return \"architect\"\n",
    "    elif n==4:\n",
    "        return \"photographer\"\n",
    "    elif n==5:\n",
    "        return \"finance\""
   ]
  },
  {
   "cell_type": "code",
   "execution_count": 36,
   "metadata": {},
   "outputs": [
    {
     "name": "stdout",
     "output_type": "stream",
     "text": [
      "[2 4 2 4 2 3 4 4]\n",
      "photographer\n"
     ]
    }
   ],
   "source": [
    "ans=getCareerByText(\"nice pictures and beautiful shot and a well designed photo shoot\")\n",
    "print(ans)"
   ]
  },
  {
   "cell_type": "code",
   "execution_count": 17,
   "metadata": {},
   "outputs": [],
   "source": [
    "def getCareerById(username):\n",
    "    alltweets=[]\n",
    "    try:\n",
    "        tweets=api.user_timeline(screen_name=username,count=200)#,tweet_mode=\"extended\"\n",
    "    except tweepy.TweepError:\n",
    "        print(\"invalid\")\n",
    "    for tweet in tweets:\n",
    "        if tweet.lang == \"en\":\n",
    "            alltweets.append(tweet.text)\n",
    "            \n",
    "    text=[]\n",
    "    for i in alltweets:\n",
    "        i=re.sub(r\"https:(\\/\\/t\\.co\\/([A-Za-z0-9]|[A-Za-z]){10})\", \"\", i)\n",
    "        i=re.sub(\"(@[A-Za-z0-9]+)|([^0-9A-Za-z \\t]) |(\\w+:\\/\\/\\S+)\", \"\",i)\n",
    "        text.append(i)\n",
    "    result=pd.DataFrame(text,columns=['Text'])\n",
    "    result.to_csv('user.csv',index=False)\n",
    "    result=pd.read_csv(r\"user.csv\",encoding='latin-1')\n",
    "    result['Text'].dropna(inplace=True)# Step - b : Change all the text to lower case. This is required as python interprets 'dog' and 'DOG' differently\n",
    "    result['Text'] = [entry.lower() for entry in result['Text']]# Step - c : Tokenization : In this each entry in the corpus will be broken into set of words\n",
    "    result['Text']= [word_tokenize(entry) for entry in result['Text']]# Step - d : Remove Stop words, Non-Numeric and perfom Word Stemming/Lemmenting.# WordNetLemmatizer requires Pos tags to understand if the word is noun or verb or adjective etc. By default it is set to Noun\n",
    "    tag_map = defaultdict(lambda : wn.NOUN)\n",
    "    tag_map['J'] = wn.ADJ\n",
    "    tag_map['V'] = wn.VERB\n",
    "    tag_map['R'] = wn.ADV\n",
    "    for index,entry in enumerate(result['Text']):\n",
    "    # Declaring Empty List to store the words that follow the rules for this step\n",
    "        Final_words = []\n",
    "    # Initializing WordNetLemmatizer()\n",
    "        word_Lemmatized = WordNetLemmatizer()\n",
    "    # pos_tag function below will provide the 'tag' i.e if the word is Noun(N) or Verb(V) or something else.\n",
    "        for word, tag in pos_tag(entry):\n",
    "        # Below condition is to check for Stop words and consider only alphabets\n",
    "            if word not in stopwords.words('english') and word.isalpha():\n",
    "                word_Final = word_Lemmatized.lemmatize(word,tag_map[tag[0]])\n",
    "                Final_words.append(word_Final)\n",
    "    # The final processed set of words for each iteration will be stored in 'text_final'\n",
    "        result.loc[index,'text_final'] = str(Final_words)\n",
    "#     print(result['text_final'])\n",
    "    res_fit=Tfidf_vect.transform(result['text_final'])\n",
    "#     print(res_fit)\n",
    "    answer=SVM.predict(res_fit)\n",
    "    print(answer)\n",
    "    n=mode(answer)\n",
    "    if n==1:\n",
    "        return \"random\"\n",
    "    elif n==2:\n",
    "        return \"pilot\"\n",
    "    elif n==3:\n",
    "        return \"architect\"\n",
    "    elif n==4:\n",
    "        return \"photographer\"\n",
    "    elif n==5:\n",
    "        return \"finance\""
   ]
  },
  {
   "cell_type": "code",
   "execution_count": 18,
   "metadata": {},
   "outputs": [
    {
     "name": "stdout",
     "output_type": "stream",
     "text": [
      "[2 2 1 2 2 2 2 2 2 2 2 2 2 2 2 2 2 2 2 2 2 2 5 2 2 2 2 2 2 2 2 2 2 2 1 2 2\n",
      " 2 2 2 1 2 2 2 2 2 2 2 2 2 2 2 2 2 2 2 2 2 2 2 2 2 2 1 2 2 2 2 2 2 1 2 2 2\n",
      " 2 2 2 2 2 2 1 2 4 2 2 2 2 2 1 2 2 2 4 2 1 2 2 2 2 2 2 2 2 2 2 2 1 2 2 2 2\n",
      " 1 2 2 2 2 2 2 2 2 2 2 2 2 2 2 2 2 2 1 2 2 2 2 1 2 2 2 2 2 2 2 2 1 2 2 2 2\n",
      " 2 2 2 1 2 2 2 2 2 2 2 2 1 2 2 2 2 2 4 2 1 2 1 2 1 2 2 2 2 5 1 2 2 2 2 2 2\n",
      " 1 2 2 2 2]\n",
      "pilot\n"
     ]
    }
   ],
   "source": [
    "ans=getCareerById('shesgotwings777')\n",
    "print(ans)"
   ]
  },
  {
   "cell_type": "code",
   "execution_count": 33,
   "metadata": {},
   "outputs": [
    {
     "data": {
      "text/plain": [
       "['vocab.pkl']"
      ]
     },
     "execution_count": 33,
     "metadata": {},
     "output_type": "execute_result"
    }
   ],
   "source": [
    "# Save the model as a pickle in a file \n",
    "joblib.dump(SVM, 'svmcareer.pkl') \n",
    "joblib.dump(Naive, 'nbcareer.pkl') \n",
    "joblib.dump(Tfidf_vect,'vocab.pkl')"
   ]
  },
  {
   "cell_type": "code",
   "execution_count": null,
   "metadata": {},
   "outputs": [],
   "source": []
  }
 ],
 "metadata": {
  "kernelspec": {
   "display_name": "Python 3",
   "language": "python",
   "name": "python3"
  },
  "language_info": {
   "codemirror_mode": {
    "name": "ipython",
    "version": 3
   },
   "file_extension": ".py",
   "mimetype": "text/x-python",
   "name": "python",
   "nbconvert_exporter": "python",
   "pygments_lexer": "ipython3",
   "version": "3.7.4"
  }
 },
 "nbformat": 4,
 "nbformat_minor": 2
}
